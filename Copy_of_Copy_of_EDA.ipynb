{
  "cells": [
    {
      "cell_type": "markdown",
      "metadata": {
        "id": "view-in-github",
        "colab_type": "text"
      },
      "source": [
        "<a href=\"https://colab.research.google.com/github/chandrikakhagga/Europetrainpridiction/blob/main/Copy_of_Copy_of_EDA.ipynb\" target=\"_parent\"><img src=\"https://colab.research.google.com/assets/colab-badge.svg\" alt=\"Open In Colab\"/></a>"
      ]
    },
    {
      "cell_type": "code",
      "execution_count": null,
      "metadata": {
        "id": "S7WL3fkSh3rO"
      },
      "outputs": [],
      "source": [
        "import warnings \n",
        "warnings.filterwarnings('ignore')\n",
        "\n",
        "import pandas as pd\n",
        "import numpy as np\n",
        "import matplotlib.pyplot as plt\n",
        "import plotly.graph_objs as go\n",
        "import plotly\n",
        "import seaborn as sns\n",
        "import plotly.express as px\n",
        "import plotly.figure_factory as ff\n",
        "import matplotlib.gridspec as gridspec\n",
        "\n",
        "from collections import Counter"
      ]
    },
    {
      "cell_type": "code",
      "execution_count": null,
      "metadata": {
        "colab": {
          "base_uri": "https://localhost:8080/",
          "height": 17
        },
        "id": "1R7dCu5xiFcw",
        "outputId": "34a82af2-7d8f-4d7f-e9c9-1afdc715c2e7"
      },
      "outputs": [
        {
          "output_type": "display_data",
          "data": {
            "text/html": [
              "        <script type=\"text/javascript\">\n",
              "        window.PlotlyConfig = {MathJaxConfig: 'local'};\n",
              "        if (window.MathJax && window.MathJax.Hub && window.MathJax.Hub.Config) {window.MathJax.Hub.Config({SVG: {font: \"STIX-Web\"}});}\n",
              "        if (typeof require !== 'undefined') {\n",
              "        require.undef(\"plotly\");\n",
              "        requirejs.config({\n",
              "            paths: {\n",
              "                'plotly': ['https://cdn.plot.ly/plotly-2.18.2.min']\n",
              "            }\n",
              "        });\n",
              "        require(['plotly'], function(Plotly) {\n",
              "            window._Plotly = Plotly;\n",
              "        });\n",
              "        }\n",
              "        </script>\n",
              "        "
            ]
          },
          "metadata": {}
        }
      ],
      "source": [
        "import plotly.offline as py\n",
        "py.init_notebook_mode(connected=True)\n",
        "\n",
        "from imblearn.over_sampling import SMOTE\n",
        "from sklearn.preprocessing import RobustScaler\n",
        "from sklearn.manifold import TSNE\n",
        "from sklearn.model_selection import train_test_split, RandomizedSearchCV, StratifiedKFold\n",
        "from sklearn.linear_model import LogisticRegression \n",
        "from sklearn.metrics import classification_report,accuracy_score, roc_curve, precision_score\n",
        "from sklearn.metrics import confusion_matrix, recall_score, roc_auc_score, f1_score, precision_recall_curve\n",
        "from sklearn.model_selection import cross_val_score\n",
        "from imblearn.pipeline import make_pipeline\n",
        "from sklearn.ensemble import ExtraTreesClassifier\n",
        "from sklearn.ensemble import RandomForestClassifier\n",
        "from sklearn.neighbors import LocalOutlierFactor\n",
        "from sklearn.ensemble import IsolationForest"
      ]
    },
    {
      "cell_type": "code",
      "execution_count": null,
      "metadata": {
        "id": "s2y_Vlm9iIcS"
      },
      "outputs": [],
      "source": [
        "data = pd.read_csv('/content/Money_Laundering_Dataset (1).csv')"
      ]
    },
    {
      "cell_type": "code",
      "execution_count": null,
      "metadata": {
        "colab": {
          "base_uri": "https://localhost:8080/"
        },
        "id": "zPKtLX5tiQC2",
        "outputId": "c1898664-9b61-41a0-c8ad-8616938b895b"
      },
      "outputs": [
        {
          "output_type": "execute_result",
          "data": {
            "text/plain": [
              "(27656, 12)"
            ]
          },
          "metadata": {},
          "execution_count": 5
        }
      ],
      "source": [
        "data.shape"
      ]
    },
    {
      "cell_type": "code",
      "execution_count": null,
      "metadata": {
        "colab": {
          "base_uri": "https://localhost:8080/",
          "height": 243
        },
        "id": "qE_Gs31bia4j",
        "outputId": "6c591bf7-95af-4b80-8fda-819f4d51aeb3"
      },
      "outputs": [
        {
          "output_type": "execute_result",
          "data": {
            "text/plain": [
              "<pandas.io.formats.style.Styler at 0x7feabc831760>"
            ],
            "text/html": [
              "<style type=\"text/css\">\n",
              "#T_acc40_row0_col0, #T_acc40_row0_col1, #T_acc40_row0_col2, #T_acc40_row0_col3, #T_acc40_row0_col4, #T_acc40_row0_col5, #T_acc40_row0_col6, #T_acc40_row0_col7, #T_acc40_row0_col8, #T_acc40_row0_col9, #T_acc40_row0_col10, #T_acc40_row0_col11, #T_acc40_row1_col0, #T_acc40_row1_col1, #T_acc40_row1_col2, #T_acc40_row1_col3, #T_acc40_row1_col4, #T_acc40_row1_col5, #T_acc40_row1_col6, #T_acc40_row1_col7, #T_acc40_row1_col8, #T_acc40_row1_col9, #T_acc40_row1_col10, #T_acc40_row1_col11, #T_acc40_row2_col0, #T_acc40_row2_col1, #T_acc40_row2_col2, #T_acc40_row2_col3, #T_acc40_row2_col4, #T_acc40_row2_col5, #T_acc40_row2_col6, #T_acc40_row2_col7, #T_acc40_row2_col8, #T_acc40_row2_col9, #T_acc40_row2_col10, #T_acc40_row2_col11, #T_acc40_row3_col0, #T_acc40_row3_col1, #T_acc40_row3_col2, #T_acc40_row3_col3, #T_acc40_row3_col4, #T_acc40_row3_col5, #T_acc40_row3_col6, #T_acc40_row3_col7, #T_acc40_row3_col8, #T_acc40_row3_col9, #T_acc40_row3_col10, #T_acc40_row3_col11, #T_acc40_row4_col0, #T_acc40_row4_col1, #T_acc40_row4_col2, #T_acc40_row4_col3, #T_acc40_row4_col4, #T_acc40_row4_col5, #T_acc40_row4_col6, #T_acc40_row4_col7, #T_acc40_row4_col8, #T_acc40_row4_col9, #T_acc40_row4_col10, #T_acc40_row4_col11 {\n",
              "  background-color: black;\n",
              "  color: lawngreen;\n",
              "}\n",
              "</style>\n",
              "<table id=\"T_acc40\" class=\"dataframe\">\n",
              "  <thead>\n",
              "    <tr>\n",
              "      <th class=\"blank level0\" >&nbsp;</th>\n",
              "      <th id=\"T_acc40_level0_col0\" class=\"col_heading level0 col0\" >Unnamed: 0</th>\n",
              "      <th id=\"T_acc40_level0_col1\" class=\"col_heading level0 col1\" >step</th>\n",
              "      <th id=\"T_acc40_level0_col2\" class=\"col_heading level0 col2\" >type</th>\n",
              "      <th id=\"T_acc40_level0_col3\" class=\"col_heading level0 col3\" >amount</th>\n",
              "      <th id=\"T_acc40_level0_col4\" class=\"col_heading level0 col4\" >nameOrig</th>\n",
              "      <th id=\"T_acc40_level0_col5\" class=\"col_heading level0 col5\" >oldbalanceOrg</th>\n",
              "      <th id=\"T_acc40_level0_col6\" class=\"col_heading level0 col6\" >newbalanceOrig</th>\n",
              "      <th id=\"T_acc40_level0_col7\" class=\"col_heading level0 col7\" >nameDest</th>\n",
              "      <th id=\"T_acc40_level0_col8\" class=\"col_heading level0 col8\" >oldbalanceDest</th>\n",
              "      <th id=\"T_acc40_level0_col9\" class=\"col_heading level0 col9\" >newbalanceDest</th>\n",
              "      <th id=\"T_acc40_level0_col10\" class=\"col_heading level0 col10\" >isFraud</th>\n",
              "      <th id=\"T_acc40_level0_col11\" class=\"col_heading level0 col11\" >isFlaggedFraud</th>\n",
              "    </tr>\n",
              "  </thead>\n",
              "  <tbody>\n",
              "    <tr>\n",
              "      <th id=\"T_acc40_level0_row0\" class=\"row_heading level0 row0\" >0</th>\n",
              "      <td id=\"T_acc40_row0_col0\" class=\"data row0 col0\" >0.000000</td>\n",
              "      <td id=\"T_acc40_row0_col1\" class=\"data row0 col1\" >1</td>\n",
              "      <td id=\"T_acc40_row0_col2\" class=\"data row0 col2\" >PAYMENT</td>\n",
              "      <td id=\"T_acc40_row0_col3\" class=\"data row0 col3\" >9839.640000</td>\n",
              "      <td id=\"T_acc40_row0_col4\" class=\"data row0 col4\" >C1231006815</td>\n",
              "      <td id=\"T_acc40_row0_col5\" class=\"data row0 col5\" >170136.000000</td>\n",
              "      <td id=\"T_acc40_row0_col6\" class=\"data row0 col6\" >160296.360000</td>\n",
              "      <td id=\"T_acc40_row0_col7\" class=\"data row0 col7\" >M1979787155</td>\n",
              "      <td id=\"T_acc40_row0_col8\" class=\"data row0 col8\" >0.000000</td>\n",
              "      <td id=\"T_acc40_row0_col9\" class=\"data row0 col9\" >0.000000</td>\n",
              "      <td id=\"T_acc40_row0_col10\" class=\"data row0 col10\" >0.000000</td>\n",
              "      <td id=\"T_acc40_row0_col11\" class=\"data row0 col11\" >0.000000</td>\n",
              "    </tr>\n",
              "    <tr>\n",
              "      <th id=\"T_acc40_level0_row1\" class=\"row_heading level0 row1\" >1</th>\n",
              "      <td id=\"T_acc40_row1_col0\" class=\"data row1 col0\" >1.000000</td>\n",
              "      <td id=\"T_acc40_row1_col1\" class=\"data row1 col1\" >1</td>\n",
              "      <td id=\"T_acc40_row1_col2\" class=\"data row1 col2\" >PAYMENT</td>\n",
              "      <td id=\"T_acc40_row1_col3\" class=\"data row1 col3\" >1864.280000</td>\n",
              "      <td id=\"T_acc40_row1_col4\" class=\"data row1 col4\" >C1666544295</td>\n",
              "      <td id=\"T_acc40_row1_col5\" class=\"data row1 col5\" >21249.000000</td>\n",
              "      <td id=\"T_acc40_row1_col6\" class=\"data row1 col6\" >19384.720000</td>\n",
              "      <td id=\"T_acc40_row1_col7\" class=\"data row1 col7\" >M2044282225</td>\n",
              "      <td id=\"T_acc40_row1_col8\" class=\"data row1 col8\" >0.000000</td>\n",
              "      <td id=\"T_acc40_row1_col9\" class=\"data row1 col9\" >0.000000</td>\n",
              "      <td id=\"T_acc40_row1_col10\" class=\"data row1 col10\" >0.000000</td>\n",
              "      <td id=\"T_acc40_row1_col11\" class=\"data row1 col11\" >0.000000</td>\n",
              "    </tr>\n",
              "    <tr>\n",
              "      <th id=\"T_acc40_level0_row2\" class=\"row_heading level0 row2\" >2</th>\n",
              "      <td id=\"T_acc40_row2_col0\" class=\"data row2 col0\" >2.000000</td>\n",
              "      <td id=\"T_acc40_row2_col1\" class=\"data row2 col1\" >1</td>\n",
              "      <td id=\"T_acc40_row2_col2\" class=\"data row2 col2\" >TRANSFER</td>\n",
              "      <td id=\"T_acc40_row2_col3\" class=\"data row2 col3\" >181.000000</td>\n",
              "      <td id=\"T_acc40_row2_col4\" class=\"data row2 col4\" >C1305486145</td>\n",
              "      <td id=\"T_acc40_row2_col5\" class=\"data row2 col5\" >181.000000</td>\n",
              "      <td id=\"T_acc40_row2_col6\" class=\"data row2 col6\" >0.000000</td>\n",
              "      <td id=\"T_acc40_row2_col7\" class=\"data row2 col7\" >C553264065</td>\n",
              "      <td id=\"T_acc40_row2_col8\" class=\"data row2 col8\" >0.000000</td>\n",
              "      <td id=\"T_acc40_row2_col9\" class=\"data row2 col9\" >0.000000</td>\n",
              "      <td id=\"T_acc40_row2_col10\" class=\"data row2 col10\" >1.000000</td>\n",
              "      <td id=\"T_acc40_row2_col11\" class=\"data row2 col11\" >0.000000</td>\n",
              "    </tr>\n",
              "    <tr>\n",
              "      <th id=\"T_acc40_level0_row3\" class=\"row_heading level0 row3\" >3</th>\n",
              "      <td id=\"T_acc40_row3_col0\" class=\"data row3 col0\" >3.000000</td>\n",
              "      <td id=\"T_acc40_row3_col1\" class=\"data row3 col1\" >1</td>\n",
              "      <td id=\"T_acc40_row3_col2\" class=\"data row3 col2\" >CASH_OUT</td>\n",
              "      <td id=\"T_acc40_row3_col3\" class=\"data row3 col3\" >181.000000</td>\n",
              "      <td id=\"T_acc40_row3_col4\" class=\"data row3 col4\" >C840083671</td>\n",
              "      <td id=\"T_acc40_row3_col5\" class=\"data row3 col5\" >181.000000</td>\n",
              "      <td id=\"T_acc40_row3_col6\" class=\"data row3 col6\" >0.000000</td>\n",
              "      <td id=\"T_acc40_row3_col7\" class=\"data row3 col7\" >C38997010</td>\n",
              "      <td id=\"T_acc40_row3_col8\" class=\"data row3 col8\" >21182.000000</td>\n",
              "      <td id=\"T_acc40_row3_col9\" class=\"data row3 col9\" >0.000000</td>\n",
              "      <td id=\"T_acc40_row3_col10\" class=\"data row3 col10\" >1.000000</td>\n",
              "      <td id=\"T_acc40_row3_col11\" class=\"data row3 col11\" >0.000000</td>\n",
              "    </tr>\n",
              "    <tr>\n",
              "      <th id=\"T_acc40_level0_row4\" class=\"row_heading level0 row4\" >4</th>\n",
              "      <td id=\"T_acc40_row4_col0\" class=\"data row4 col0\" >4.000000</td>\n",
              "      <td id=\"T_acc40_row4_col1\" class=\"data row4 col1\" >1</td>\n",
              "      <td id=\"T_acc40_row4_col2\" class=\"data row4 col2\" >PAYMENT</td>\n",
              "      <td id=\"T_acc40_row4_col3\" class=\"data row4 col3\" >11668.140000</td>\n",
              "      <td id=\"T_acc40_row4_col4\" class=\"data row4 col4\" >C2048537720</td>\n",
              "      <td id=\"T_acc40_row4_col5\" class=\"data row4 col5\" >41554.000000</td>\n",
              "      <td id=\"T_acc40_row4_col6\" class=\"data row4 col6\" >29885.860000</td>\n",
              "      <td id=\"T_acc40_row4_col7\" class=\"data row4 col7\" >M1230701703</td>\n",
              "      <td id=\"T_acc40_row4_col8\" class=\"data row4 col8\" >0.000000</td>\n",
              "      <td id=\"T_acc40_row4_col9\" class=\"data row4 col9\" >0.000000</td>\n",
              "      <td id=\"T_acc40_row4_col10\" class=\"data row4 col10\" >0.000000</td>\n",
              "      <td id=\"T_acc40_row4_col11\" class=\"data row4 col11\" >0.000000</td>\n",
              "    </tr>\n",
              "  </tbody>\n",
              "</table>\n"
            ]
          },
          "metadata": {},
          "execution_count": 6
        }
      ],
      "source": [
        "data.head().style.set_properties(**{\"background-color\":\"black\",\"color\" : \"lawngreen\"})"
      ]
    },
    {
      "cell_type": "code",
      "execution_count": null,
      "metadata": {
        "colab": {
          "base_uri": "https://localhost:8080/"
        },
        "id": "Qv9buLaHigZE",
        "outputId": "8be7e707-69bb-4429-8865-ca1111c9629e"
      },
      "outputs": [
        {
          "output_type": "stream",
          "name": "stdout",
          "text": [
            "<class 'pandas.core.frame.DataFrame'>\n",
            "RangeIndex: 27656 entries, 0 to 27655\n",
            "Data columns (total 12 columns):\n",
            " #   Column          Non-Null Count  Dtype  \n",
            "---  ------          --------------  -----  \n",
            " 0   Unnamed: 0      27653 non-null  float64\n",
            " 1   step            27656 non-null  int64  \n",
            " 2   type            27656 non-null  object \n",
            " 3   amount          27656 non-null  float64\n",
            " 4   nameOrig        27646 non-null  object \n",
            " 5   oldbalanceOrg   27643 non-null  float64\n",
            " 6   newbalanceOrig  27655 non-null  float64\n",
            " 7   nameDest        27651 non-null  object \n",
            " 8   oldbalanceDest  27655 non-null  float64\n",
            " 9   newbalanceDest  27655 non-null  float64\n",
            " 10  isFraud         27655 non-null  float64\n",
            " 11  isFlaggedFraud  27633 non-null  float64\n",
            "dtypes: float64(8), int64(1), object(3)\n",
            "memory usage: 2.5+ MB\n"
          ]
        }
      ],
      "source": [
        "data.info()"
      ]
    },
    {
      "cell_type": "code",
      "execution_count": null,
      "metadata": {
        "colab": {
          "base_uri": "https://localhost:8080/"
        },
        "id": "KFlhahLlirPp",
        "outputId": "da3917de-5c25-4fed-de50-d39296613890"
      },
      "outputs": [
        {
          "output_type": "execute_result",
          "data": {
            "text/plain": [
              "Index(['Unnamed: 0', 'step', 'type', 'amount', 'nameOrig', 'oldbalanceOrg',\n",
              "       'newbalanceOrig', 'nameDest', 'oldbalanceDest', 'newbalanceDest',\n",
              "       'isFraud', 'isFlaggedFraud'],\n",
              "      dtype='object')"
            ]
          },
          "metadata": {},
          "execution_count": 8
        }
      ],
      "source": [
        "data.columns"
      ]
    },
    {
      "cell_type": "code",
      "execution_count": null,
      "metadata": {
        "colab": {
          "base_uri": "https://localhost:8080/",
          "height": 300
        },
        "id": "AcRXwYRzixtT",
        "outputId": "1fd05e96-87be-432f-91ae-36ccdd987569"
      },
      "outputs": [
        {
          "output_type": "execute_result",
          "data": {
            "text/plain": [
              "<pandas.io.formats.style.Styler at 0x7feabb8cc8e0>"
            ],
            "text/html": [
              "<style type=\"text/css\">\n",
              "#T_46ef4_row0_col0, #T_46ef4_row0_col1, #T_46ef4_row0_col2, #T_46ef4_row0_col3, #T_46ef4_row1_col0, #T_46ef4_row1_col1, #T_46ef4_row1_col2, #T_46ef4_row1_col3, #T_46ef4_row2_col0, #T_46ef4_row2_col1, #T_46ef4_row2_col2, #T_46ef4_row2_col3, #T_46ef4_row3_col0, #T_46ef4_row3_col1, #T_46ef4_row3_col2, #T_46ef4_row3_col3, #T_46ef4_row4_col0, #T_46ef4_row4_col1, #T_46ef4_row4_col2, #T_46ef4_row4_col3, #T_46ef4_row5_col0, #T_46ef4_row5_col1, #T_46ef4_row5_col2, #T_46ef4_row5_col3, #T_46ef4_row6_col0, #T_46ef4_row6_col1, #T_46ef4_row6_col2, #T_46ef4_row6_col3, #T_46ef4_row7_col0, #T_46ef4_row7_col1, #T_46ef4_row7_col2, #T_46ef4_row7_col3 {\n",
              "  background-color: black;\n",
              "  color: yellow;\n",
              "}\n",
              "</style>\n",
              "<table id=\"T_46ef4\" class=\"dataframe\">\n",
              "  <thead>\n",
              "    <tr>\n",
              "      <th class=\"blank level0\" >&nbsp;</th>\n",
              "      <th id=\"T_46ef4_level0_col0\" class=\"col_heading level0 col0\" >oldbalanceOrg</th>\n",
              "      <th id=\"T_46ef4_level0_col1\" class=\"col_heading level0 col1\" >amount</th>\n",
              "      <th id=\"T_46ef4_level0_col2\" class=\"col_heading level0 col2\" >newbalanceDest</th>\n",
              "      <th id=\"T_46ef4_level0_col3\" class=\"col_heading level0 col3\" >isFraud</th>\n",
              "    </tr>\n",
              "  </thead>\n",
              "  <tbody>\n",
              "    <tr>\n",
              "      <th id=\"T_46ef4_level0_row0\" class=\"row_heading level0 row0\" >count</th>\n",
              "      <td id=\"T_46ef4_row0_col0\" class=\"data row0 col0\" >27643.000000</td>\n",
              "      <td id=\"T_46ef4_row0_col1\" class=\"data row0 col1\" >27656.000000</td>\n",
              "      <td id=\"T_46ef4_row0_col2\" class=\"data row0 col2\" >27655.000000</td>\n",
              "      <td id=\"T_46ef4_row0_col3\" class=\"data row0 col3\" >27655.000000</td>\n",
              "    </tr>\n",
              "    <tr>\n",
              "      <th id=\"T_46ef4_level0_row1\" class=\"row_heading level0 row1\" >mean</th>\n",
              "      <td id=\"T_46ef4_row1_col0\" class=\"data row1 col0\" >777335.066629</td>\n",
              "      <td id=\"T_46ef4_row1_col1\" class=\"data row1 col1\" >134669.616772</td>\n",
              "      <td id=\"T_46ef4_row1_col2\" class=\"data row1 col2\" >1189777.922540</td>\n",
              "      <td id=\"T_46ef4_row1_col3\" class=\"data row1 col3\" >0.011210</td>\n",
              "    </tr>\n",
              "    <tr>\n",
              "      <th id=\"T_46ef4_level0_row2\" class=\"row_heading level0 row2\" >std</th>\n",
              "      <td id=\"T_46ef4_row2_col0\" class=\"data row2 col0\" >2142844.571118</td>\n",
              "      <td id=\"T_46ef4_row2_col1\" class=\"data row2 col1\" >300667.783012</td>\n",
              "      <td id=\"T_46ef4_row2_col2\" class=\"data row2 col2\" >3114074.724089</td>\n",
              "      <td id=\"T_46ef4_row2_col3\" class=\"data row2 col3\" >0.105282</td>\n",
              "    </tr>\n",
              "    <tr>\n",
              "      <th id=\"T_46ef4_level0_row3\" class=\"row_heading level0 row3\" >min</th>\n",
              "      <td id=\"T_46ef4_row3_col0\" class=\"data row3 col0\" >0.000000</td>\n",
              "      <td id=\"T_46ef4_row3_col1\" class=\"data row3 col1\" >1.770000</td>\n",
              "      <td id=\"T_46ef4_row3_col2\" class=\"data row3 col2\" >0.000000</td>\n",
              "      <td id=\"T_46ef4_row3_col3\" class=\"data row3 col3\" >0.000000</td>\n",
              "    </tr>\n",
              "    <tr>\n",
              "      <th id=\"T_46ef4_level0_row4\" class=\"row_heading level0 row4\" >25%</th>\n",
              "      <td id=\"T_46ef4_row4_col0\" class=\"data row4 col0\" >0.000000</td>\n",
              "      <td id=\"T_46ef4_row4_col1\" class=\"data row4 col1\" >5918.057500</td>\n",
              "      <td id=\"T_46ef4_row4_col2\" class=\"data row4 col2\" >0.000000</td>\n",
              "      <td id=\"T_46ef4_row4_col3\" class=\"data row4 col3\" >0.000000</td>\n",
              "    </tr>\n",
              "    <tr>\n",
              "      <th id=\"T_46ef4_level0_row5\" class=\"row_heading level0 row5\" >50%</th>\n",
              "      <td id=\"T_46ef4_row5_col0\" class=\"data row5 col0\" >19934.000000</td>\n",
              "      <td id=\"T_46ef4_row5_col1\" class=\"data row5 col1\" >18996.575000</td>\n",
              "      <td id=\"T_46ef4_row5_col2\" class=\"data row5 col2\" >0.000000</td>\n",
              "      <td id=\"T_46ef4_row5_col3\" class=\"data row5 col3\" >0.000000</td>\n",
              "    </tr>\n",
              "    <tr>\n",
              "      <th id=\"T_46ef4_level0_row6\" class=\"row_heading level0 row6\" >75%</th>\n",
              "      <td id=\"T_46ef4_row6_col0\" class=\"data row6 col0\" >141578.010000</td>\n",
              "      <td id=\"T_46ef4_row6_col1\" class=\"data row6 col1\" >158603.362500</td>\n",
              "      <td id=\"T_46ef4_row6_col2\" class=\"data row6 col2\" >637928.740000</td>\n",
              "      <td id=\"T_46ef4_row6_col3\" class=\"data row6 col3\" >0.000000</td>\n",
              "    </tr>\n",
              "    <tr>\n",
              "      <th id=\"T_46ef4_level0_row7\" class=\"row_heading level0 row7\" >max</th>\n",
              "      <td id=\"T_46ef4_row7_col0\" class=\"data row7 col0\" >22352310.120000</td>\n",
              "      <td id=\"T_46ef4_row7_col1\" class=\"data row7 col1\" >10000000.000000</td>\n",
              "      <td id=\"T_46ef4_row7_col2\" class=\"data row7 col2\" >28783585.380000</td>\n",
              "      <td id=\"T_46ef4_row7_col3\" class=\"data row7 col3\" >1.000000</td>\n",
              "    </tr>\n",
              "  </tbody>\n",
              "</table>\n"
            ]
          },
          "metadata": {},
          "execution_count": 9
        }
      ],
      "source": [
        "data[['oldbalanceOrg', 'amount','newbalanceDest','isFraud']].describe().style.set_properties(**{\"background-color\":\"black\",\"color\" : \"yellow\"})"
      ]
    },
    {
      "cell_type": "code",
      "execution_count": null,
      "metadata": {
        "colab": {
          "base_uri": "https://localhost:8080/",
          "height": 542
        },
        "id": "ByO6bg9SjWwf",
        "outputId": "5c90bed3-2fcd-4fab-b4e7-78d63208aadb"
      },
      "outputs": [
        {
          "output_type": "display_data",
          "data": {
            "application/vnd.plotly.v1+json": {
              "data": [
                {
                  "cells": {
                    "fill": {
                      "color": [
                        "lightgrey",
                        "#F5F8FF"
                      ]
                    },
                    "line": {
                      "color": [
                        "#506784"
                      ]
                    },
                    "values": [
                      [
                        "Unnamed: 0",
                        "step",
                        "amount",
                        "oldbalanceOrg",
                        "newbalanceOrig",
                        "oldbalanceDest",
                        "newbalanceDest",
                        "isFraud",
                        "isFlaggedFraud"
                      ],
                      [
                        0,
                        0,
                        0,
                        0,
                        0,
                        0,
                        0,
                        0,
                        0
                      ],
                      [
                        null,
                        null,
                        null,
                        null,
                        null,
                        null,
                        null,
                        null,
                        null
                      ],
                      [
                        null,
                        null,
                        null,
                        null,
                        null,
                        null,
                        null,
                        null,
                        null
                      ],
                      [
                        null,
                        null,
                        null,
                        null,
                        null,
                        null,
                        null,
                        null,
                        null
                      ],
                      [
                        null,
                        null,
                        null,
                        null,
                        null,
                        null,
                        null,
                        null,
                        null
                      ],
                      [
                        null,
                        null,
                        null,
                        null,
                        null,
                        null,
                        null,
                        null,
                        null
                      ],
                      [
                        null,
                        null,
                        null,
                        null,
                        null,
                        null,
                        null,
                        null,
                        null
                      ],
                      [
                        null,
                        null,
                        null,
                        null,
                        null,
                        null,
                        null,
                        null,
                        null
                      ]
                    ]
                  },
                  "columnwidth": [
                    150,
                    60,
                    100,
                    100,
                    80,
                    80,
                    80,
                    80,
                    80
                  ],
                  "header": {
                    "fill": {
                      "color": [
                        "skyblue"
                      ]
                    },
                    "line": {
                      "color": [
                        "#506784"
                      ]
                    },
                    "values": [
                      "feature",
                      "count",
                      "mean",
                      "std",
                      "min",
                      "25%",
                      "50%",
                      "75%",
                      "max"
                    ]
                  },
                  "type": "table"
                }
              ],
              "layout": {
                "template": {
                  "data": {
                    "barpolar": [
                      {
                        "marker": {
                          "line": {
                            "color": "#E5ECF6",
                            "width": 0.5
                          },
                          "pattern": {
                            "fillmode": "overlay",
                            "size": 10,
                            "solidity": 0.2
                          }
                        },
                        "type": "barpolar"
                      }
                    ],
                    "bar": [
                      {
                        "error_x": {
                          "color": "#2a3f5f"
                        },
                        "error_y": {
                          "color": "#2a3f5f"
                        },
                        "marker": {
                          "line": {
                            "color": "#E5ECF6",
                            "width": 0.5
                          },
                          "pattern": {
                            "fillmode": "overlay",
                            "size": 10,
                            "solidity": 0.2
                          }
                        },
                        "type": "bar"
                      }
                    ],
                    "carpet": [
                      {
                        "aaxis": {
                          "endlinecolor": "#2a3f5f",
                          "gridcolor": "white",
                          "linecolor": "white",
                          "minorgridcolor": "white",
                          "startlinecolor": "#2a3f5f"
                        },
                        "baxis": {
                          "endlinecolor": "#2a3f5f",
                          "gridcolor": "white",
                          "linecolor": "white",
                          "minorgridcolor": "white",
                          "startlinecolor": "#2a3f5f"
                        },
                        "type": "carpet"
                      }
                    ],
                    "choropleth": [
                      {
                        "colorbar": {
                          "outlinewidth": 0,
                          "ticks": ""
                        },
                        "type": "choropleth"
                      }
                    ],
                    "contourcarpet": [
                      {
                        "colorbar": {
                          "outlinewidth": 0,
                          "ticks": ""
                        },
                        "type": "contourcarpet"
                      }
                    ],
                    "contour": [
                      {
                        "colorbar": {
                          "outlinewidth": 0,
                          "ticks": ""
                        },
                        "colorscale": [
                          [
                            0,
                            "#0d0887"
                          ],
                          [
                            0.1111111111111111,
                            "#46039f"
                          ],
                          [
                            0.2222222222222222,
                            "#7201a8"
                          ],
                          [
                            0.3333333333333333,
                            "#9c179e"
                          ],
                          [
                            0.4444444444444444,
                            "#bd3786"
                          ],
                          [
                            0.5555555555555556,
                            "#d8576b"
                          ],
                          [
                            0.6666666666666666,
                            "#ed7953"
                          ],
                          [
                            0.7777777777777778,
                            "#fb9f3a"
                          ],
                          [
                            0.8888888888888888,
                            "#fdca26"
                          ],
                          [
                            1,
                            "#f0f921"
                          ]
                        ],
                        "type": "contour"
                      }
                    ],
                    "heatmapgl": [
                      {
                        "colorbar": {
                          "outlinewidth": 0,
                          "ticks": ""
                        },
                        "colorscale": [
                          [
                            0,
                            "#0d0887"
                          ],
                          [
                            0.1111111111111111,
                            "#46039f"
                          ],
                          [
                            0.2222222222222222,
                            "#7201a8"
                          ],
                          [
                            0.3333333333333333,
                            "#9c179e"
                          ],
                          [
                            0.4444444444444444,
                            "#bd3786"
                          ],
                          [
                            0.5555555555555556,
                            "#d8576b"
                          ],
                          [
                            0.6666666666666666,
                            "#ed7953"
                          ],
                          [
                            0.7777777777777778,
                            "#fb9f3a"
                          ],
                          [
                            0.8888888888888888,
                            "#fdca26"
                          ],
                          [
                            1,
                            "#f0f921"
                          ]
                        ],
                        "type": "heatmapgl"
                      }
                    ],
                    "heatmap": [
                      {
                        "colorbar": {
                          "outlinewidth": 0,
                          "ticks": ""
                        },
                        "colorscale": [
                          [
                            0,
                            "#0d0887"
                          ],
                          [
                            0.1111111111111111,
                            "#46039f"
                          ],
                          [
                            0.2222222222222222,
                            "#7201a8"
                          ],
                          [
                            0.3333333333333333,
                            "#9c179e"
                          ],
                          [
                            0.4444444444444444,
                            "#bd3786"
                          ],
                          [
                            0.5555555555555556,
                            "#d8576b"
                          ],
                          [
                            0.6666666666666666,
                            "#ed7953"
                          ],
                          [
                            0.7777777777777778,
                            "#fb9f3a"
                          ],
                          [
                            0.8888888888888888,
                            "#fdca26"
                          ],
                          [
                            1,
                            "#f0f921"
                          ]
                        ],
                        "type": "heatmap"
                      }
                    ],
                    "histogram2dcontour": [
                      {
                        "colorbar": {
                          "outlinewidth": 0,
                          "ticks": ""
                        },
                        "colorscale": [
                          [
                            0,
                            "#0d0887"
                          ],
                          [
                            0.1111111111111111,
                            "#46039f"
                          ],
                          [
                            0.2222222222222222,
                            "#7201a8"
                          ],
                          [
                            0.3333333333333333,
                            "#9c179e"
                          ],
                          [
                            0.4444444444444444,
                            "#bd3786"
                          ],
                          [
                            0.5555555555555556,
                            "#d8576b"
                          ],
                          [
                            0.6666666666666666,
                            "#ed7953"
                          ],
                          [
                            0.7777777777777778,
                            "#fb9f3a"
                          ],
                          [
                            0.8888888888888888,
                            "#fdca26"
                          ],
                          [
                            1,
                            "#f0f921"
                          ]
                        ],
                        "type": "histogram2dcontour"
                      }
                    ],
                    "histogram2d": [
                      {
                        "colorbar": {
                          "outlinewidth": 0,
                          "ticks": ""
                        },
                        "colorscale": [
                          [
                            0,
                            "#0d0887"
                          ],
                          [
                            0.1111111111111111,
                            "#46039f"
                          ],
                          [
                            0.2222222222222222,
                            "#7201a8"
                          ],
                          [
                            0.3333333333333333,
                            "#9c179e"
                          ],
                          [
                            0.4444444444444444,
                            "#bd3786"
                          ],
                          [
                            0.5555555555555556,
                            "#d8576b"
                          ],
                          [
                            0.6666666666666666,
                            "#ed7953"
                          ],
                          [
                            0.7777777777777778,
                            "#fb9f3a"
                          ],
                          [
                            0.8888888888888888,
                            "#fdca26"
                          ],
                          [
                            1,
                            "#f0f921"
                          ]
                        ],
                        "type": "histogram2d"
                      }
                    ],
                    "histogram": [
                      {
                        "marker": {
                          "pattern": {
                            "fillmode": "overlay",
                            "size": 10,
                            "solidity": 0.2
                          }
                        },
                        "type": "histogram"
                      }
                    ],
                    "mesh3d": [
                      {
                        "colorbar": {
                          "outlinewidth": 0,
                          "ticks": ""
                        },
                        "type": "mesh3d"
                      }
                    ],
                    "parcoords": [
                      {
                        "line": {
                          "colorbar": {
                            "outlinewidth": 0,
                            "ticks": ""
                          }
                        },
                        "type": "parcoords"
                      }
                    ],
                    "pie": [
                      {
                        "automargin": true,
                        "type": "pie"
                      }
                    ],
                    "scatter3d": [
                      {
                        "line": {
                          "colorbar": {
                            "outlinewidth": 0,
                            "ticks": ""
                          }
                        },
                        "marker": {
                          "colorbar": {
                            "outlinewidth": 0,
                            "ticks": ""
                          }
                        },
                        "type": "scatter3d"
                      }
                    ],
                    "scattercarpet": [
                      {
                        "marker": {
                          "colorbar": {
                            "outlinewidth": 0,
                            "ticks": ""
                          }
                        },
                        "type": "scattercarpet"
                      }
                    ],
                    "scattergeo": [
                      {
                        "marker": {
                          "colorbar": {
                            "outlinewidth": 0,
                            "ticks": ""
                          }
                        },
                        "type": "scattergeo"
                      }
                    ],
                    "scattergl": [
                      {
                        "marker": {
                          "colorbar": {
                            "outlinewidth": 0,
                            "ticks": ""
                          }
                        },
                        "type": "scattergl"
                      }
                    ],
                    "scattermapbox": [
                      {
                        "marker": {
                          "colorbar": {
                            "outlinewidth": 0,
                            "ticks": ""
                          }
                        },
                        "type": "scattermapbox"
                      }
                    ],
                    "scatterpolargl": [
                      {
                        "marker": {
                          "colorbar": {
                            "outlinewidth": 0,
                            "ticks": ""
                          }
                        },
                        "type": "scatterpolargl"
                      }
                    ],
                    "scatterpolar": [
                      {
                        "marker": {
                          "colorbar": {
                            "outlinewidth": 0,
                            "ticks": ""
                          }
                        },
                        "type": "scatterpolar"
                      }
                    ],
                    "scatter": [
                      {
                        "fillpattern": {
                          "fillmode": "overlay",
                          "size": 10,
                          "solidity": 0.2
                        },
                        "type": "scatter"
                      }
                    ],
                    "scatterternary": [
                      {
                        "marker": {
                          "colorbar": {
                            "outlinewidth": 0,
                            "ticks": ""
                          }
                        },
                        "type": "scatterternary"
                      }
                    ],
                    "surface": [
                      {
                        "colorbar": {
                          "outlinewidth": 0,
                          "ticks": ""
                        },
                        "colorscale": [
                          [
                            0,
                            "#0d0887"
                          ],
                          [
                            0.1111111111111111,
                            "#46039f"
                          ],
                          [
                            0.2222222222222222,
                            "#7201a8"
                          ],
                          [
                            0.3333333333333333,
                            "#9c179e"
                          ],
                          [
                            0.4444444444444444,
                            "#bd3786"
                          ],
                          [
                            0.5555555555555556,
                            "#d8576b"
                          ],
                          [
                            0.6666666666666666,
                            "#ed7953"
                          ],
                          [
                            0.7777777777777778,
                            "#fb9f3a"
                          ],
                          [
                            0.8888888888888888,
                            "#fdca26"
                          ],
                          [
                            1,
                            "#f0f921"
                          ]
                        ],
                        "type": "surface"
                      }
                    ],
                    "table": [
                      {
                        "cells": {
                          "fill": {
                            "color": "#EBF0F8"
                          },
                          "line": {
                            "color": "white"
                          }
                        },
                        "header": {
                          "fill": {
                            "color": "#C8D4E3"
                          },
                          "line": {
                            "color": "white"
                          }
                        },
                        "type": "table"
                      }
                    ]
                  },
                  "layout": {
                    "annotationdefaults": {
                      "arrowcolor": "#2a3f5f",
                      "arrowhead": 0,
                      "arrowwidth": 1
                    },
                    "autotypenumbers": "strict",
                    "coloraxis": {
                      "colorbar": {
                        "outlinewidth": 0,
                        "ticks": ""
                      }
                    },
                    "colorscale": {
                      "diverging": [
                        [
                          0,
                          "#8e0152"
                        ],
                        [
                          0.1,
                          "#c51b7d"
                        ],
                        [
                          0.2,
                          "#de77ae"
                        ],
                        [
                          0.3,
                          "#f1b6da"
                        ],
                        [
                          0.4,
                          "#fde0ef"
                        ],
                        [
                          0.5,
                          "#f7f7f7"
                        ],
                        [
                          0.6,
                          "#e6f5d0"
                        ],
                        [
                          0.7,
                          "#b8e186"
                        ],
                        [
                          0.8,
                          "#7fbc41"
                        ],
                        [
                          0.9,
                          "#4d9221"
                        ],
                        [
                          1,
                          "#276419"
                        ]
                      ],
                      "sequential": [
                        [
                          0,
                          "#0d0887"
                        ],
                        [
                          0.1111111111111111,
                          "#46039f"
                        ],
                        [
                          0.2222222222222222,
                          "#7201a8"
                        ],
                        [
                          0.3333333333333333,
                          "#9c179e"
                        ],
                        [
                          0.4444444444444444,
                          "#bd3786"
                        ],
                        [
                          0.5555555555555556,
                          "#d8576b"
                        ],
                        [
                          0.6666666666666666,
                          "#ed7953"
                        ],
                        [
                          0.7777777777777778,
                          "#fb9f3a"
                        ],
                        [
                          0.8888888888888888,
                          "#fdca26"
                        ],
                        [
                          1,
                          "#f0f921"
                        ]
                      ],
                      "sequentialminus": [
                        [
                          0,
                          "#0d0887"
                        ],
                        [
                          0.1111111111111111,
                          "#46039f"
                        ],
                        [
                          0.2222222222222222,
                          "#7201a8"
                        ],
                        [
                          0.3333333333333333,
                          "#9c179e"
                        ],
                        [
                          0.4444444444444444,
                          "#bd3786"
                        ],
                        [
                          0.5555555555555556,
                          "#d8576b"
                        ],
                        [
                          0.6666666666666666,
                          "#ed7953"
                        ],
                        [
                          0.7777777777777778,
                          "#fb9f3a"
                        ],
                        [
                          0.8888888888888888,
                          "#fdca26"
                        ],
                        [
                          1,
                          "#f0f921"
                        ]
                      ]
                    },
                    "colorway": [
                      "#636efa",
                      "#EF553B",
                      "#00cc96",
                      "#ab63fa",
                      "#FFA15A",
                      "#19d3f3",
                      "#FF6692",
                      "#B6E880",
                      "#FF97FF",
                      "#FECB52"
                    ],
                    "font": {
                      "color": "#2a3f5f"
                    },
                    "geo": {
                      "bgcolor": "white",
                      "lakecolor": "white",
                      "landcolor": "#E5ECF6",
                      "showlakes": true,
                      "showland": true,
                      "subunitcolor": "white"
                    },
                    "hoverlabel": {
                      "align": "left"
                    },
                    "hovermode": "closest",
                    "mapbox": {
                      "style": "light"
                    },
                    "paper_bgcolor": "white",
                    "plot_bgcolor": "#E5ECF6",
                    "polar": {
                      "angularaxis": {
                        "gridcolor": "white",
                        "linecolor": "white",
                        "ticks": ""
                      },
                      "bgcolor": "#E5ECF6",
                      "radialaxis": {
                        "gridcolor": "white",
                        "linecolor": "white",
                        "ticks": ""
                      }
                    },
                    "scene": {
                      "xaxis": {
                        "backgroundcolor": "#E5ECF6",
                        "gridcolor": "white",
                        "gridwidth": 2,
                        "linecolor": "white",
                        "showbackground": true,
                        "ticks": "",
                        "zerolinecolor": "white"
                      },
                      "yaxis": {
                        "backgroundcolor": "#E5ECF6",
                        "gridcolor": "white",
                        "gridwidth": 2,
                        "linecolor": "white",
                        "showbackground": true,
                        "ticks": "",
                        "zerolinecolor": "white"
                      },
                      "zaxis": {
                        "backgroundcolor": "#E5ECF6",
                        "gridcolor": "white",
                        "gridwidth": 2,
                        "linecolor": "white",
                        "showbackground": true,
                        "ticks": "",
                        "zerolinecolor": "white"
                      }
                    },
                    "shapedefaults": {
                      "line": {
                        "color": "#2a3f5f"
                      }
                    },
                    "ternary": {
                      "aaxis": {
                        "gridcolor": "white",
                        "linecolor": "white",
                        "ticks": ""
                      },
                      "baxis": {
                        "gridcolor": "white",
                        "linecolor": "white",
                        "ticks": ""
                      },
                      "bgcolor": "#E5ECF6",
                      "caxis": {
                        "gridcolor": "white",
                        "linecolor": "white",
                        "ticks": ""
                      }
                    },
                    "title": {
                      "x": 0.05
                    },
                    "xaxis": {
                      "automargin": true,
                      "gridcolor": "white",
                      "linecolor": "white",
                      "ticks": "",
                      "title": {
                        "standoff": 15
                      },
                      "zerolinecolor": "white",
                      "zerolinewidth": 2
                    },
                    "yaxis": {
                      "automargin": true,
                      "gridcolor": "white",
                      "linecolor": "white",
                      "ticks": "",
                      "title": {
                        "standoff": 15
                      },
                      "zerolinecolor": "white",
                      "zerolinewidth": 2
                    }
                  }
                },
                "title": {
                  "text": "Summary for fraudulent Transactions"
                }
              },
              "config": {
                "showLink": false,
                "linkText": "Export to plot.ly",
                "plotlyServerURL": "https://plot.ly"
              }
            },
            "text/html": [
              "<div>                            <div id=\"8b7d9e7a-162f-45c7-8143-c790cf78e408\" class=\"plotly-graph-div\" style=\"height:525px; width:100%;\"></div>            <script type=\"text/javascript\">                require([\"plotly\"], function(Plotly) {                    window.PLOTLYENV=window.PLOTLYENV || {};                                    if (document.getElementById(\"8b7d9e7a-162f-45c7-8143-c790cf78e408\")) {                    Plotly.newPlot(                        \"8b7d9e7a-162f-45c7-8143-c790cf78e408\",                        [{\"cells\":{\"fill\":{\"color\":[\"lightgrey\",\"#F5F8FF\"]},\"line\":{\"color\":[\"#506784\"]},\"values\":[[\"Unnamed: 0\",\"step\",\"amount\",\"oldbalanceOrg\",\"newbalanceOrig\",\"oldbalanceDest\",\"newbalanceDest\",\"isFraud\",\"isFlaggedFraud\"],[0.0,0.0,0.0,0.0,0.0,0.0,0.0,0.0,0.0],[null,null,null,null,null,null,null,null,null],[null,null,null,null,null,null,null,null,null],[null,null,null,null,null,null,null,null,null],[null,null,null,null,null,null,null,null,null],[null,null,null,null,null,null,null,null,null],[null,null,null,null,null,null,null,null,null],[null,null,null,null,null,null,null,null,null]]},\"columnwidth\":[150,60,100,100,80,80,80,80,80],\"header\":{\"fill\":{\"color\":[\"skyblue\"]},\"line\":{\"color\":[\"#506784\"]},\"values\":[\"feature\",\"count\",\"mean\",\"std\",\"min\",\"25%\",\"50%\",\"75%\",\"max\"]},\"type\":\"table\"}],                        {\"template\":{\"data\":{\"barpolar\":[{\"marker\":{\"line\":{\"color\":\"#E5ECF6\",\"width\":0.5},\"pattern\":{\"fillmode\":\"overlay\",\"size\":10,\"solidity\":0.2}},\"type\":\"barpolar\"}],\"bar\":[{\"error_x\":{\"color\":\"#2a3f5f\"},\"error_y\":{\"color\":\"#2a3f5f\"},\"marker\":{\"line\":{\"color\":\"#E5ECF6\",\"width\":0.5},\"pattern\":{\"fillmode\":\"overlay\",\"size\":10,\"solidity\":0.2}},\"type\":\"bar\"}],\"carpet\":[{\"aaxis\":{\"endlinecolor\":\"#2a3f5f\",\"gridcolor\":\"white\",\"linecolor\":\"white\",\"minorgridcolor\":\"white\",\"startlinecolor\":\"#2a3f5f\"},\"baxis\":{\"endlinecolor\":\"#2a3f5f\",\"gridcolor\":\"white\",\"linecolor\":\"white\",\"minorgridcolor\":\"white\",\"startlinecolor\":\"#2a3f5f\"},\"type\":\"carpet\"}],\"choropleth\":[{\"colorbar\":{\"outlinewidth\":0,\"ticks\":\"\"},\"type\":\"choropleth\"}],\"contourcarpet\":[{\"colorbar\":{\"outlinewidth\":0,\"ticks\":\"\"},\"type\":\"contourcarpet\"}],\"contour\":[{\"colorbar\":{\"outlinewidth\":0,\"ticks\":\"\"},\"colorscale\":[[0.0,\"#0d0887\"],[0.1111111111111111,\"#46039f\"],[0.2222222222222222,\"#7201a8\"],[0.3333333333333333,\"#9c179e\"],[0.4444444444444444,\"#bd3786\"],[0.5555555555555556,\"#d8576b\"],[0.6666666666666666,\"#ed7953\"],[0.7777777777777778,\"#fb9f3a\"],[0.8888888888888888,\"#fdca26\"],[1.0,\"#f0f921\"]],\"type\":\"contour\"}],\"heatmapgl\":[{\"colorbar\":{\"outlinewidth\":0,\"ticks\":\"\"},\"colorscale\":[[0.0,\"#0d0887\"],[0.1111111111111111,\"#46039f\"],[0.2222222222222222,\"#7201a8\"],[0.3333333333333333,\"#9c179e\"],[0.4444444444444444,\"#bd3786\"],[0.5555555555555556,\"#d8576b\"],[0.6666666666666666,\"#ed7953\"],[0.7777777777777778,\"#fb9f3a\"],[0.8888888888888888,\"#fdca26\"],[1.0,\"#f0f921\"]],\"type\":\"heatmapgl\"}],\"heatmap\":[{\"colorbar\":{\"outlinewidth\":0,\"ticks\":\"\"},\"colorscale\":[[0.0,\"#0d0887\"],[0.1111111111111111,\"#46039f\"],[0.2222222222222222,\"#7201a8\"],[0.3333333333333333,\"#9c179e\"],[0.4444444444444444,\"#bd3786\"],[0.5555555555555556,\"#d8576b\"],[0.6666666666666666,\"#ed7953\"],[0.7777777777777778,\"#fb9f3a\"],[0.8888888888888888,\"#fdca26\"],[1.0,\"#f0f921\"]],\"type\":\"heatmap\"}],\"histogram2dcontour\":[{\"colorbar\":{\"outlinewidth\":0,\"ticks\":\"\"},\"colorscale\":[[0.0,\"#0d0887\"],[0.1111111111111111,\"#46039f\"],[0.2222222222222222,\"#7201a8\"],[0.3333333333333333,\"#9c179e\"],[0.4444444444444444,\"#bd3786\"],[0.5555555555555556,\"#d8576b\"],[0.6666666666666666,\"#ed7953\"],[0.7777777777777778,\"#fb9f3a\"],[0.8888888888888888,\"#fdca26\"],[1.0,\"#f0f921\"]],\"type\":\"histogram2dcontour\"}],\"histogram2d\":[{\"colorbar\":{\"outlinewidth\":0,\"ticks\":\"\"},\"colorscale\":[[0.0,\"#0d0887\"],[0.1111111111111111,\"#46039f\"],[0.2222222222222222,\"#7201a8\"],[0.3333333333333333,\"#9c179e\"],[0.4444444444444444,\"#bd3786\"],[0.5555555555555556,\"#d8576b\"],[0.6666666666666666,\"#ed7953\"],[0.7777777777777778,\"#fb9f3a\"],[0.8888888888888888,\"#fdca26\"],[1.0,\"#f0f921\"]],\"type\":\"histogram2d\"}],\"histogram\":[{\"marker\":{\"pattern\":{\"fillmode\":\"overlay\",\"size\":10,\"solidity\":0.2}},\"type\":\"histogram\"}],\"mesh3d\":[{\"colorbar\":{\"outlinewidth\":0,\"ticks\":\"\"},\"type\":\"mesh3d\"}],\"parcoords\":[{\"line\":{\"colorbar\":{\"outlinewidth\":0,\"ticks\":\"\"}},\"type\":\"parcoords\"}],\"pie\":[{\"automargin\":true,\"type\":\"pie\"}],\"scatter3d\":[{\"line\":{\"colorbar\":{\"outlinewidth\":0,\"ticks\":\"\"}},\"marker\":{\"colorbar\":{\"outlinewidth\":0,\"ticks\":\"\"}},\"type\":\"scatter3d\"}],\"scattercarpet\":[{\"marker\":{\"colorbar\":{\"outlinewidth\":0,\"ticks\":\"\"}},\"type\":\"scattercarpet\"}],\"scattergeo\":[{\"marker\":{\"colorbar\":{\"outlinewidth\":0,\"ticks\":\"\"}},\"type\":\"scattergeo\"}],\"scattergl\":[{\"marker\":{\"colorbar\":{\"outlinewidth\":0,\"ticks\":\"\"}},\"type\":\"scattergl\"}],\"scattermapbox\":[{\"marker\":{\"colorbar\":{\"outlinewidth\":0,\"ticks\":\"\"}},\"type\":\"scattermapbox\"}],\"scatterpolargl\":[{\"marker\":{\"colorbar\":{\"outlinewidth\":0,\"ticks\":\"\"}},\"type\":\"scatterpolargl\"}],\"scatterpolar\":[{\"marker\":{\"colorbar\":{\"outlinewidth\":0,\"ticks\":\"\"}},\"type\":\"scatterpolar\"}],\"scatter\":[{\"fillpattern\":{\"fillmode\":\"overlay\",\"size\":10,\"solidity\":0.2},\"type\":\"scatter\"}],\"scatterternary\":[{\"marker\":{\"colorbar\":{\"outlinewidth\":0,\"ticks\":\"\"}},\"type\":\"scatterternary\"}],\"surface\":[{\"colorbar\":{\"outlinewidth\":0,\"ticks\":\"\"},\"colorscale\":[[0.0,\"#0d0887\"],[0.1111111111111111,\"#46039f\"],[0.2222222222222222,\"#7201a8\"],[0.3333333333333333,\"#9c179e\"],[0.4444444444444444,\"#bd3786\"],[0.5555555555555556,\"#d8576b\"],[0.6666666666666666,\"#ed7953\"],[0.7777777777777778,\"#fb9f3a\"],[0.8888888888888888,\"#fdca26\"],[1.0,\"#f0f921\"]],\"type\":\"surface\"}],\"table\":[{\"cells\":{\"fill\":{\"color\":\"#EBF0F8\"},\"line\":{\"color\":\"white\"}},\"header\":{\"fill\":{\"color\":\"#C8D4E3\"},\"line\":{\"color\":\"white\"}},\"type\":\"table\"}]},\"layout\":{\"annotationdefaults\":{\"arrowcolor\":\"#2a3f5f\",\"arrowhead\":0,\"arrowwidth\":1},\"autotypenumbers\":\"strict\",\"coloraxis\":{\"colorbar\":{\"outlinewidth\":0,\"ticks\":\"\"}},\"colorscale\":{\"diverging\":[[0,\"#8e0152\"],[0.1,\"#c51b7d\"],[0.2,\"#de77ae\"],[0.3,\"#f1b6da\"],[0.4,\"#fde0ef\"],[0.5,\"#f7f7f7\"],[0.6,\"#e6f5d0\"],[0.7,\"#b8e186\"],[0.8,\"#7fbc41\"],[0.9,\"#4d9221\"],[1,\"#276419\"]],\"sequential\":[[0.0,\"#0d0887\"],[0.1111111111111111,\"#46039f\"],[0.2222222222222222,\"#7201a8\"],[0.3333333333333333,\"#9c179e\"],[0.4444444444444444,\"#bd3786\"],[0.5555555555555556,\"#d8576b\"],[0.6666666666666666,\"#ed7953\"],[0.7777777777777778,\"#fb9f3a\"],[0.8888888888888888,\"#fdca26\"],[1.0,\"#f0f921\"]],\"sequentialminus\":[[0.0,\"#0d0887\"],[0.1111111111111111,\"#46039f\"],[0.2222222222222222,\"#7201a8\"],[0.3333333333333333,\"#9c179e\"],[0.4444444444444444,\"#bd3786\"],[0.5555555555555556,\"#d8576b\"],[0.6666666666666666,\"#ed7953\"],[0.7777777777777778,\"#fb9f3a\"],[0.8888888888888888,\"#fdca26\"],[1.0,\"#f0f921\"]]},\"colorway\":[\"#636efa\",\"#EF553B\",\"#00cc96\",\"#ab63fa\",\"#FFA15A\",\"#19d3f3\",\"#FF6692\",\"#B6E880\",\"#FF97FF\",\"#FECB52\"],\"font\":{\"color\":\"#2a3f5f\"},\"geo\":{\"bgcolor\":\"white\",\"lakecolor\":\"white\",\"landcolor\":\"#E5ECF6\",\"showlakes\":true,\"showland\":true,\"subunitcolor\":\"white\"},\"hoverlabel\":{\"align\":\"left\"},\"hovermode\":\"closest\",\"mapbox\":{\"style\":\"light\"},\"paper_bgcolor\":\"white\",\"plot_bgcolor\":\"#E5ECF6\",\"polar\":{\"angularaxis\":{\"gridcolor\":\"white\",\"linecolor\":\"white\",\"ticks\":\"\"},\"bgcolor\":\"#E5ECF6\",\"radialaxis\":{\"gridcolor\":\"white\",\"linecolor\":\"white\",\"ticks\":\"\"}},\"scene\":{\"xaxis\":{\"backgroundcolor\":\"#E5ECF6\",\"gridcolor\":\"white\",\"gridwidth\":2,\"linecolor\":\"white\",\"showbackground\":true,\"ticks\":\"\",\"zerolinecolor\":\"white\"},\"yaxis\":{\"backgroundcolor\":\"#E5ECF6\",\"gridcolor\":\"white\",\"gridwidth\":2,\"linecolor\":\"white\",\"showbackground\":true,\"ticks\":\"\",\"zerolinecolor\":\"white\"},\"zaxis\":{\"backgroundcolor\":\"#E5ECF6\",\"gridcolor\":\"white\",\"gridwidth\":2,\"linecolor\":\"white\",\"showbackground\":true,\"ticks\":\"\",\"zerolinecolor\":\"white\"}},\"shapedefaults\":{\"line\":{\"color\":\"#2a3f5f\"}},\"ternary\":{\"aaxis\":{\"gridcolor\":\"white\",\"linecolor\":\"white\",\"ticks\":\"\"},\"baxis\":{\"gridcolor\":\"white\",\"linecolor\":\"white\",\"ticks\":\"\"},\"bgcolor\":\"#E5ECF6\",\"caxis\":{\"gridcolor\":\"white\",\"linecolor\":\"white\",\"ticks\":\"\"}},\"title\":{\"x\":0.05},\"xaxis\":{\"automargin\":true,\"gridcolor\":\"white\",\"linecolor\":\"white\",\"ticks\":\"\",\"title\":{\"standoff\":15},\"zerolinecolor\":\"white\",\"zerolinewidth\":2},\"yaxis\":{\"automargin\":true,\"gridcolor\":\"white\",\"linecolor\":\"white\",\"ticks\":\"\",\"title\":{\"standoff\":15},\"zerolinecolor\":\"white\",\"zerolinewidth\":2}}},\"title\":{\"text\":\"Summary for fraudulent Transactions\"}},                        {\"responsive\": true}                    ).then(function(){\n",
              "                            \n",
              "var gd = document.getElementById('8b7d9e7a-162f-45c7-8143-c790cf78e408');\n",
              "var x = new MutationObserver(function (mutations, observer) {{\n",
              "        var display = window.getComputedStyle(gd).display;\n",
              "        if (!display || display === 'none') {{\n",
              "            console.log([gd, 'removed!']);\n",
              "            Plotly.purge(gd);\n",
              "            observer.disconnect();\n",
              "        }}\n",
              "}});\n",
              "\n",
              "// Listen for the removal of the full notebook cells\n",
              "var notebookContainer = gd.closest('#notebook-container');\n",
              "if (notebookContainer) {{\n",
              "    x.observe(notebookContainer, {childList: true});\n",
              "}}\n",
              "\n",
              "// Listen for the clearing of the current output cell\n",
              "var outputEl = gd.closest('.output');\n",
              "if (outputEl) {{\n",
              "    x.observe(outputEl, {childList: true});\n",
              "}}\n",
              "\n",
              "                        })                };                });            </script>        </div>"
            ]
          },
          "metadata": {}
        }
      ],
      "source": [
        "summary = (data[data['amount'] == 1].describe().transpose().reset_index())\n",
        "\n",
        "summary = summary.rename(columns = {\"index\" : \"feature\"})\n",
        "summary = np.around(summary,3)\n",
        "\n",
        "val_lst = [summary['feature'], summary['count'],\n",
        "           summary['mean'],summary['std'],\n",
        "           summary['min'], summary['25%'],\n",
        "           summary['50%'], summary['75%'], summary['max']]\n",
        "\n",
        "trace  = go.Table(header = dict(values = summary.columns.tolist(),\n",
        "                                line = dict(color = ['#506784']),\n",
        "                                fill = dict(color = ['skyblue']),\n",
        "                               ),\n",
        "                  cells  = dict(values = val_lst,\n",
        "                                line = dict(color = ['#506784']),\n",
        "                                fill = dict(color = [\"lightgrey\",'#F5F8FF'])\n",
        "                               ),\n",
        "                  columnwidth = [150,60,100,100,80,80,80,80,80])\n",
        "layout = go.Layout(dict(title = \"Summary for fraudulent Transactions\"))\n",
        "figure = go.Figure(data=[trace],layout=layout)\n",
        "py.iplot(figure)\n"
      ]
    },
    {
      "cell_type": "code",
      "execution_count": null,
      "metadata": {
        "colab": {
          "base_uri": "https://localhost:8080/"
        },
        "id": "_s9-Kk-2j4rZ",
        "outputId": "6040a186-635b-47b7-97f2-626ec46494be"
      },
      "outputs": [
        {
          "output_type": "stream",
          "name": "stdout",
          "text": [
            "Percent of Non-Fraudulent Transactions = 98.875%\n",
            "Percent of Fraudulent Transactions = 1.121%\n"
          ]
        }
      ],
      "source": [
        "\n",
        "print(f'Percent of Non-Fraudulent Transactions = {round(data[\"isFraud\"].value_counts()[0]/len(data) * 100,3)}%')\n",
        "print(f'Percent of Fraudulent Transactions = {round(data[\"isFraud\"].value_counts()[1]/len(data) * 100,3)}%')"
      ]
    },
    {
      "cell_type": "code",
      "execution_count": null,
      "metadata": {
        "colab": {
          "base_uri": "https://localhost:8080/",
          "height": 542
        },
        "id": "MvjQl1aFkA5V",
        "outputId": "e9aed0d3-bcc6-4bcd-bc58-28904191876d"
      },
      "outputs": [
        {
          "output_type": "display_data",
          "data": {
            "application/vnd.plotly.v1+json": {
              "data": [
                {
                  "labels": [
                    "Not Fraud",
                    "Frauds"
                  ],
                  "marker": {
                    "colors": [
                      "skyblue",
                      "red"
                    ],
                    "line": {
                      "color": "#000000",
                      "width": 0.1
                    }
                  },
                  "textfont": {
                    "size": 20
                  },
                  "textinfo": "value",
                  "values": [
                    27345,
                    310
                  ],
                  "type": "pie"
                }
              ],
              "layout": {
                "template": {
                  "data": {
                    "barpolar": [
                      {
                        "marker": {
                          "line": {
                            "color": "#E5ECF6",
                            "width": 0.5
                          },
                          "pattern": {
                            "fillmode": "overlay",
                            "size": 10,
                            "solidity": 0.2
                          }
                        },
                        "type": "barpolar"
                      }
                    ],
                    "bar": [
                      {
                        "error_x": {
                          "color": "#2a3f5f"
                        },
                        "error_y": {
                          "color": "#2a3f5f"
                        },
                        "marker": {
                          "line": {
                            "color": "#E5ECF6",
                            "width": 0.5
                          },
                          "pattern": {
                            "fillmode": "overlay",
                            "size": 10,
                            "solidity": 0.2
                          }
                        },
                        "type": "bar"
                      }
                    ],
                    "carpet": [
                      {
                        "aaxis": {
                          "endlinecolor": "#2a3f5f",
                          "gridcolor": "white",
                          "linecolor": "white",
                          "minorgridcolor": "white",
                          "startlinecolor": "#2a3f5f"
                        },
                        "baxis": {
                          "endlinecolor": "#2a3f5f",
                          "gridcolor": "white",
                          "linecolor": "white",
                          "minorgridcolor": "white",
                          "startlinecolor": "#2a3f5f"
                        },
                        "type": "carpet"
                      }
                    ],
                    "choropleth": [
                      {
                        "colorbar": {
                          "outlinewidth": 0,
                          "ticks": ""
                        },
                        "type": "choropleth"
                      }
                    ],
                    "contourcarpet": [
                      {
                        "colorbar": {
                          "outlinewidth": 0,
                          "ticks": ""
                        },
                        "type": "contourcarpet"
                      }
                    ],
                    "contour": [
                      {
                        "colorbar": {
                          "outlinewidth": 0,
                          "ticks": ""
                        },
                        "colorscale": [
                          [
                            0,
                            "#0d0887"
                          ],
                          [
                            0.1111111111111111,
                            "#46039f"
                          ],
                          [
                            0.2222222222222222,
                            "#7201a8"
                          ],
                          [
                            0.3333333333333333,
                            "#9c179e"
                          ],
                          [
                            0.4444444444444444,
                            "#bd3786"
                          ],
                          [
                            0.5555555555555556,
                            "#d8576b"
                          ],
                          [
                            0.6666666666666666,
                            "#ed7953"
                          ],
                          [
                            0.7777777777777778,
                            "#fb9f3a"
                          ],
                          [
                            0.8888888888888888,
                            "#fdca26"
                          ],
                          [
                            1,
                            "#f0f921"
                          ]
                        ],
                        "type": "contour"
                      }
                    ],
                    "heatmapgl": [
                      {
                        "colorbar": {
                          "outlinewidth": 0,
                          "ticks": ""
                        },
                        "colorscale": [
                          [
                            0,
                            "#0d0887"
                          ],
                          [
                            0.1111111111111111,
                            "#46039f"
                          ],
                          [
                            0.2222222222222222,
                            "#7201a8"
                          ],
                          [
                            0.3333333333333333,
                            "#9c179e"
                          ],
                          [
                            0.4444444444444444,
                            "#bd3786"
                          ],
                          [
                            0.5555555555555556,
                            "#d8576b"
                          ],
                          [
                            0.6666666666666666,
                            "#ed7953"
                          ],
                          [
                            0.7777777777777778,
                            "#fb9f3a"
                          ],
                          [
                            0.8888888888888888,
                            "#fdca26"
                          ],
                          [
                            1,
                            "#f0f921"
                          ]
                        ],
                        "type": "heatmapgl"
                      }
                    ],
                    "heatmap": [
                      {
                        "colorbar": {
                          "outlinewidth": 0,
                          "ticks": ""
                        },
                        "colorscale": [
                          [
                            0,
                            "#0d0887"
                          ],
                          [
                            0.1111111111111111,
                            "#46039f"
                          ],
                          [
                            0.2222222222222222,
                            "#7201a8"
                          ],
                          [
                            0.3333333333333333,
                            "#9c179e"
                          ],
                          [
                            0.4444444444444444,
                            "#bd3786"
                          ],
                          [
                            0.5555555555555556,
                            "#d8576b"
                          ],
                          [
                            0.6666666666666666,
                            "#ed7953"
                          ],
                          [
                            0.7777777777777778,
                            "#fb9f3a"
                          ],
                          [
                            0.8888888888888888,
                            "#fdca26"
                          ],
                          [
                            1,
                            "#f0f921"
                          ]
                        ],
                        "type": "heatmap"
                      }
                    ],
                    "histogram2dcontour": [
                      {
                        "colorbar": {
                          "outlinewidth": 0,
                          "ticks": ""
                        },
                        "colorscale": [
                          [
                            0,
                            "#0d0887"
                          ],
                          [
                            0.1111111111111111,
                            "#46039f"
                          ],
                          [
                            0.2222222222222222,
                            "#7201a8"
                          ],
                          [
                            0.3333333333333333,
                            "#9c179e"
                          ],
                          [
                            0.4444444444444444,
                            "#bd3786"
                          ],
                          [
                            0.5555555555555556,
                            "#d8576b"
                          ],
                          [
                            0.6666666666666666,
                            "#ed7953"
                          ],
                          [
                            0.7777777777777778,
                            "#fb9f3a"
                          ],
                          [
                            0.8888888888888888,
                            "#fdca26"
                          ],
                          [
                            1,
                            "#f0f921"
                          ]
                        ],
                        "type": "histogram2dcontour"
                      }
                    ],
                    "histogram2d": [
                      {
                        "colorbar": {
                          "outlinewidth": 0,
                          "ticks": ""
                        },
                        "colorscale": [
                          [
                            0,
                            "#0d0887"
                          ],
                          [
                            0.1111111111111111,
                            "#46039f"
                          ],
                          [
                            0.2222222222222222,
                            "#7201a8"
                          ],
                          [
                            0.3333333333333333,
                            "#9c179e"
                          ],
                          [
                            0.4444444444444444,
                            "#bd3786"
                          ],
                          [
                            0.5555555555555556,
                            "#d8576b"
                          ],
                          [
                            0.6666666666666666,
                            "#ed7953"
                          ],
                          [
                            0.7777777777777778,
                            "#fb9f3a"
                          ],
                          [
                            0.8888888888888888,
                            "#fdca26"
                          ],
                          [
                            1,
                            "#f0f921"
                          ]
                        ],
                        "type": "histogram2d"
                      }
                    ],
                    "histogram": [
                      {
                        "marker": {
                          "pattern": {
                            "fillmode": "overlay",
                            "size": 10,
                            "solidity": 0.2
                          }
                        },
                        "type": "histogram"
                      }
                    ],
                    "mesh3d": [
                      {
                        "colorbar": {
                          "outlinewidth": 0,
                          "ticks": ""
                        },
                        "type": "mesh3d"
                      }
                    ],
                    "parcoords": [
                      {
                        "line": {
                          "colorbar": {
                            "outlinewidth": 0,
                            "ticks": ""
                          }
                        },
                        "type": "parcoords"
                      }
                    ],
                    "pie": [
                      {
                        "automargin": true,
                        "type": "pie"
                      }
                    ],
                    "scatter3d": [
                      {
                        "line": {
                          "colorbar": {
                            "outlinewidth": 0,
                            "ticks": ""
                          }
                        },
                        "marker": {
                          "colorbar": {
                            "outlinewidth": 0,
                            "ticks": ""
                          }
                        },
                        "type": "scatter3d"
                      }
                    ],
                    "scattercarpet": [
                      {
                        "marker": {
                          "colorbar": {
                            "outlinewidth": 0,
                            "ticks": ""
                          }
                        },
                        "type": "scattercarpet"
                      }
                    ],
                    "scattergeo": [
                      {
                        "marker": {
                          "colorbar": {
                            "outlinewidth": 0,
                            "ticks": ""
                          }
                        },
                        "type": "scattergeo"
                      }
                    ],
                    "scattergl": [
                      {
                        "marker": {
                          "colorbar": {
                            "outlinewidth": 0,
                            "ticks": ""
                          }
                        },
                        "type": "scattergl"
                      }
                    ],
                    "scattermapbox": [
                      {
                        "marker": {
                          "colorbar": {
                            "outlinewidth": 0,
                            "ticks": ""
                          }
                        },
                        "type": "scattermapbox"
                      }
                    ],
                    "scatterpolargl": [
                      {
                        "marker": {
                          "colorbar": {
                            "outlinewidth": 0,
                            "ticks": ""
                          }
                        },
                        "type": "scatterpolargl"
                      }
                    ],
                    "scatterpolar": [
                      {
                        "marker": {
                          "colorbar": {
                            "outlinewidth": 0,
                            "ticks": ""
                          }
                        },
                        "type": "scatterpolar"
                      }
                    ],
                    "scatter": [
                      {
                        "fillpattern": {
                          "fillmode": "overlay",
                          "size": 10,
                          "solidity": 0.2
                        },
                        "type": "scatter"
                      }
                    ],
                    "scatterternary": [
                      {
                        "marker": {
                          "colorbar": {
                            "outlinewidth": 0,
                            "ticks": ""
                          }
                        },
                        "type": "scatterternary"
                      }
                    ],
                    "surface": [
                      {
                        "colorbar": {
                          "outlinewidth": 0,
                          "ticks": ""
                        },
                        "colorscale": [
                          [
                            0,
                            "#0d0887"
                          ],
                          [
                            0.1111111111111111,
                            "#46039f"
                          ],
                          [
                            0.2222222222222222,
                            "#7201a8"
                          ],
                          [
                            0.3333333333333333,
                            "#9c179e"
                          ],
                          [
                            0.4444444444444444,
                            "#bd3786"
                          ],
                          [
                            0.5555555555555556,
                            "#d8576b"
                          ],
                          [
                            0.6666666666666666,
                            "#ed7953"
                          ],
                          [
                            0.7777777777777778,
                            "#fb9f3a"
                          ],
                          [
                            0.8888888888888888,
                            "#fdca26"
                          ],
                          [
                            1,
                            "#f0f921"
                          ]
                        ],
                        "type": "surface"
                      }
                    ],
                    "table": [
                      {
                        "cells": {
                          "fill": {
                            "color": "#EBF0F8"
                          },
                          "line": {
                            "color": "white"
                          }
                        },
                        "header": {
                          "fill": {
                            "color": "#C8D4E3"
                          },
                          "line": {
                            "color": "white"
                          }
                        },
                        "type": "table"
                      }
                    ]
                  },
                  "layout": {
                    "annotationdefaults": {
                      "arrowcolor": "#2a3f5f",
                      "arrowhead": 0,
                      "arrowwidth": 1
                    },
                    "autotypenumbers": "strict",
                    "coloraxis": {
                      "colorbar": {
                        "outlinewidth": 0,
                        "ticks": ""
                      }
                    },
                    "colorscale": {
                      "diverging": [
                        [
                          0,
                          "#8e0152"
                        ],
                        [
                          0.1,
                          "#c51b7d"
                        ],
                        [
                          0.2,
                          "#de77ae"
                        ],
                        [
                          0.3,
                          "#f1b6da"
                        ],
                        [
                          0.4,
                          "#fde0ef"
                        ],
                        [
                          0.5,
                          "#f7f7f7"
                        ],
                        [
                          0.6,
                          "#e6f5d0"
                        ],
                        [
                          0.7,
                          "#b8e186"
                        ],
                        [
                          0.8,
                          "#7fbc41"
                        ],
                        [
                          0.9,
                          "#4d9221"
                        ],
                        [
                          1,
                          "#276419"
                        ]
                      ],
                      "sequential": [
                        [
                          0,
                          "#0d0887"
                        ],
                        [
                          0.1111111111111111,
                          "#46039f"
                        ],
                        [
                          0.2222222222222222,
                          "#7201a8"
                        ],
                        [
                          0.3333333333333333,
                          "#9c179e"
                        ],
                        [
                          0.4444444444444444,
                          "#bd3786"
                        ],
                        [
                          0.5555555555555556,
                          "#d8576b"
                        ],
                        [
                          0.6666666666666666,
                          "#ed7953"
                        ],
                        [
                          0.7777777777777778,
                          "#fb9f3a"
                        ],
                        [
                          0.8888888888888888,
                          "#fdca26"
                        ],
                        [
                          1,
                          "#f0f921"
                        ]
                      ],
                      "sequentialminus": [
                        [
                          0,
                          "#0d0887"
                        ],
                        [
                          0.1111111111111111,
                          "#46039f"
                        ],
                        [
                          0.2222222222222222,
                          "#7201a8"
                        ],
                        [
                          0.3333333333333333,
                          "#9c179e"
                        ],
                        [
                          0.4444444444444444,
                          "#bd3786"
                        ],
                        [
                          0.5555555555555556,
                          "#d8576b"
                        ],
                        [
                          0.6666666666666666,
                          "#ed7953"
                        ],
                        [
                          0.7777777777777778,
                          "#fb9f3a"
                        ],
                        [
                          0.8888888888888888,
                          "#fdca26"
                        ],
                        [
                          1,
                          "#f0f921"
                        ]
                      ]
                    },
                    "colorway": [
                      "#636efa",
                      "#EF553B",
                      "#00cc96",
                      "#ab63fa",
                      "#FFA15A",
                      "#19d3f3",
                      "#FF6692",
                      "#B6E880",
                      "#FF97FF",
                      "#FECB52"
                    ],
                    "font": {
                      "color": "#2a3f5f"
                    },
                    "geo": {
                      "bgcolor": "white",
                      "lakecolor": "white",
                      "landcolor": "#E5ECF6",
                      "showlakes": true,
                      "showland": true,
                      "subunitcolor": "white"
                    },
                    "hoverlabel": {
                      "align": "left"
                    },
                    "hovermode": "closest",
                    "mapbox": {
                      "style": "light"
                    },
                    "paper_bgcolor": "white",
                    "plot_bgcolor": "#E5ECF6",
                    "polar": {
                      "angularaxis": {
                        "gridcolor": "white",
                        "linecolor": "white",
                        "ticks": ""
                      },
                      "bgcolor": "#E5ECF6",
                      "radialaxis": {
                        "gridcolor": "white",
                        "linecolor": "white",
                        "ticks": ""
                      }
                    },
                    "scene": {
                      "xaxis": {
                        "backgroundcolor": "#E5ECF6",
                        "gridcolor": "white",
                        "gridwidth": 2,
                        "linecolor": "white",
                        "showbackground": true,
                        "ticks": "",
                        "zerolinecolor": "white"
                      },
                      "yaxis": {
                        "backgroundcolor": "#E5ECF6",
                        "gridcolor": "white",
                        "gridwidth": 2,
                        "linecolor": "white",
                        "showbackground": true,
                        "ticks": "",
                        "zerolinecolor": "white"
                      },
                      "zaxis": {
                        "backgroundcolor": "#E5ECF6",
                        "gridcolor": "white",
                        "gridwidth": 2,
                        "linecolor": "white",
                        "showbackground": true,
                        "ticks": "",
                        "zerolinecolor": "white"
                      }
                    },
                    "shapedefaults": {
                      "line": {
                        "color": "#2a3f5f"
                      }
                    },
                    "ternary": {
                      "aaxis": {
                        "gridcolor": "white",
                        "linecolor": "white",
                        "ticks": ""
                      },
                      "baxis": {
                        "gridcolor": "white",
                        "linecolor": "white",
                        "ticks": ""
                      },
                      "bgcolor": "#E5ECF6",
                      "caxis": {
                        "gridcolor": "white",
                        "linecolor": "white",
                        "ticks": ""
                      }
                    },
                    "title": {
                      "x": 0.05
                    },
                    "xaxis": {
                      "automargin": true,
                      "gridcolor": "white",
                      "linecolor": "white",
                      "ticks": "",
                      "title": {
                        "standoff": 15
                      },
                      "zerolinecolor": "white",
                      "zerolinewidth": 2
                    },
                    "yaxis": {
                      "automargin": true,
                      "gridcolor": "white",
                      "linecolor": "white",
                      "ticks": "",
                      "title": {
                        "standoff": 15
                      },
                      "zerolinecolor": "white",
                      "zerolinewidth": 2
                    }
                  }
                }
              },
              "config": {
                "showLink": false,
                "linkText": "Export to plot.ly",
                "plotlyServerURL": "https://plot.ly"
              }
            },
            "text/html": [
              "<div>                            <div id=\"fce57b23-3a6b-42bf-af44-ecd4b64538ed\" class=\"plotly-graph-div\" style=\"height:525px; width:100%;\"></div>            <script type=\"text/javascript\">                require([\"plotly\"], function(Plotly) {                    window.PLOTLYENV=window.PLOTLYENV || {};                                    if (document.getElementById(\"fce57b23-3a6b-42bf-af44-ecd4b64538ed\")) {                    Plotly.newPlot(                        \"fce57b23-3a6b-42bf-af44-ecd4b64538ed\",                        [{\"labels\":[\"Not Fraud\",\"Frauds\"],\"marker\":{\"colors\":[\"skyblue\",\"red\"],\"line\":{\"color\":\"#000000\",\"width\":0.1}},\"textfont\":{\"size\":20},\"textinfo\":\"value\",\"values\":[27345,310],\"type\":\"pie\"}],                        {\"template\":{\"data\":{\"barpolar\":[{\"marker\":{\"line\":{\"color\":\"#E5ECF6\",\"width\":0.5},\"pattern\":{\"fillmode\":\"overlay\",\"size\":10,\"solidity\":0.2}},\"type\":\"barpolar\"}],\"bar\":[{\"error_x\":{\"color\":\"#2a3f5f\"},\"error_y\":{\"color\":\"#2a3f5f\"},\"marker\":{\"line\":{\"color\":\"#E5ECF6\",\"width\":0.5},\"pattern\":{\"fillmode\":\"overlay\",\"size\":10,\"solidity\":0.2}},\"type\":\"bar\"}],\"carpet\":[{\"aaxis\":{\"endlinecolor\":\"#2a3f5f\",\"gridcolor\":\"white\",\"linecolor\":\"white\",\"minorgridcolor\":\"white\",\"startlinecolor\":\"#2a3f5f\"},\"baxis\":{\"endlinecolor\":\"#2a3f5f\",\"gridcolor\":\"white\",\"linecolor\":\"white\",\"minorgridcolor\":\"white\",\"startlinecolor\":\"#2a3f5f\"},\"type\":\"carpet\"}],\"choropleth\":[{\"colorbar\":{\"outlinewidth\":0,\"ticks\":\"\"},\"type\":\"choropleth\"}],\"contourcarpet\":[{\"colorbar\":{\"outlinewidth\":0,\"ticks\":\"\"},\"type\":\"contourcarpet\"}],\"contour\":[{\"colorbar\":{\"outlinewidth\":0,\"ticks\":\"\"},\"colorscale\":[[0.0,\"#0d0887\"],[0.1111111111111111,\"#46039f\"],[0.2222222222222222,\"#7201a8\"],[0.3333333333333333,\"#9c179e\"],[0.4444444444444444,\"#bd3786\"],[0.5555555555555556,\"#d8576b\"],[0.6666666666666666,\"#ed7953\"],[0.7777777777777778,\"#fb9f3a\"],[0.8888888888888888,\"#fdca26\"],[1.0,\"#f0f921\"]],\"type\":\"contour\"}],\"heatmapgl\":[{\"colorbar\":{\"outlinewidth\":0,\"ticks\":\"\"},\"colorscale\":[[0.0,\"#0d0887\"],[0.1111111111111111,\"#46039f\"],[0.2222222222222222,\"#7201a8\"],[0.3333333333333333,\"#9c179e\"],[0.4444444444444444,\"#bd3786\"],[0.5555555555555556,\"#d8576b\"],[0.6666666666666666,\"#ed7953\"],[0.7777777777777778,\"#fb9f3a\"],[0.8888888888888888,\"#fdca26\"],[1.0,\"#f0f921\"]],\"type\":\"heatmapgl\"}],\"heatmap\":[{\"colorbar\":{\"outlinewidth\":0,\"ticks\":\"\"},\"colorscale\":[[0.0,\"#0d0887\"],[0.1111111111111111,\"#46039f\"],[0.2222222222222222,\"#7201a8\"],[0.3333333333333333,\"#9c179e\"],[0.4444444444444444,\"#bd3786\"],[0.5555555555555556,\"#d8576b\"],[0.6666666666666666,\"#ed7953\"],[0.7777777777777778,\"#fb9f3a\"],[0.8888888888888888,\"#fdca26\"],[1.0,\"#f0f921\"]],\"type\":\"heatmap\"}],\"histogram2dcontour\":[{\"colorbar\":{\"outlinewidth\":0,\"ticks\":\"\"},\"colorscale\":[[0.0,\"#0d0887\"],[0.1111111111111111,\"#46039f\"],[0.2222222222222222,\"#7201a8\"],[0.3333333333333333,\"#9c179e\"],[0.4444444444444444,\"#bd3786\"],[0.5555555555555556,\"#d8576b\"],[0.6666666666666666,\"#ed7953\"],[0.7777777777777778,\"#fb9f3a\"],[0.8888888888888888,\"#fdca26\"],[1.0,\"#f0f921\"]],\"type\":\"histogram2dcontour\"}],\"histogram2d\":[{\"colorbar\":{\"outlinewidth\":0,\"ticks\":\"\"},\"colorscale\":[[0.0,\"#0d0887\"],[0.1111111111111111,\"#46039f\"],[0.2222222222222222,\"#7201a8\"],[0.3333333333333333,\"#9c179e\"],[0.4444444444444444,\"#bd3786\"],[0.5555555555555556,\"#d8576b\"],[0.6666666666666666,\"#ed7953\"],[0.7777777777777778,\"#fb9f3a\"],[0.8888888888888888,\"#fdca26\"],[1.0,\"#f0f921\"]],\"type\":\"histogram2d\"}],\"histogram\":[{\"marker\":{\"pattern\":{\"fillmode\":\"overlay\",\"size\":10,\"solidity\":0.2}},\"type\":\"histogram\"}],\"mesh3d\":[{\"colorbar\":{\"outlinewidth\":0,\"ticks\":\"\"},\"type\":\"mesh3d\"}],\"parcoords\":[{\"line\":{\"colorbar\":{\"outlinewidth\":0,\"ticks\":\"\"}},\"type\":\"parcoords\"}],\"pie\":[{\"automargin\":true,\"type\":\"pie\"}],\"scatter3d\":[{\"line\":{\"colorbar\":{\"outlinewidth\":0,\"ticks\":\"\"}},\"marker\":{\"colorbar\":{\"outlinewidth\":0,\"ticks\":\"\"}},\"type\":\"scatter3d\"}],\"scattercarpet\":[{\"marker\":{\"colorbar\":{\"outlinewidth\":0,\"ticks\":\"\"}},\"type\":\"scattercarpet\"}],\"scattergeo\":[{\"marker\":{\"colorbar\":{\"outlinewidth\":0,\"ticks\":\"\"}},\"type\":\"scattergeo\"}],\"scattergl\":[{\"marker\":{\"colorbar\":{\"outlinewidth\":0,\"ticks\":\"\"}},\"type\":\"scattergl\"}],\"scattermapbox\":[{\"marker\":{\"colorbar\":{\"outlinewidth\":0,\"ticks\":\"\"}},\"type\":\"scattermapbox\"}],\"scatterpolargl\":[{\"marker\":{\"colorbar\":{\"outlinewidth\":0,\"ticks\":\"\"}},\"type\":\"scatterpolargl\"}],\"scatterpolar\":[{\"marker\":{\"colorbar\":{\"outlinewidth\":0,\"ticks\":\"\"}},\"type\":\"scatterpolar\"}],\"scatter\":[{\"fillpattern\":{\"fillmode\":\"overlay\",\"size\":10,\"solidity\":0.2},\"type\":\"scatter\"}],\"scatterternary\":[{\"marker\":{\"colorbar\":{\"outlinewidth\":0,\"ticks\":\"\"}},\"type\":\"scatterternary\"}],\"surface\":[{\"colorbar\":{\"outlinewidth\":0,\"ticks\":\"\"},\"colorscale\":[[0.0,\"#0d0887\"],[0.1111111111111111,\"#46039f\"],[0.2222222222222222,\"#7201a8\"],[0.3333333333333333,\"#9c179e\"],[0.4444444444444444,\"#bd3786\"],[0.5555555555555556,\"#d8576b\"],[0.6666666666666666,\"#ed7953\"],[0.7777777777777778,\"#fb9f3a\"],[0.8888888888888888,\"#fdca26\"],[1.0,\"#f0f921\"]],\"type\":\"surface\"}],\"table\":[{\"cells\":{\"fill\":{\"color\":\"#EBF0F8\"},\"line\":{\"color\":\"white\"}},\"header\":{\"fill\":{\"color\":\"#C8D4E3\"},\"line\":{\"color\":\"white\"}},\"type\":\"table\"}]},\"layout\":{\"annotationdefaults\":{\"arrowcolor\":\"#2a3f5f\",\"arrowhead\":0,\"arrowwidth\":1},\"autotypenumbers\":\"strict\",\"coloraxis\":{\"colorbar\":{\"outlinewidth\":0,\"ticks\":\"\"}},\"colorscale\":{\"diverging\":[[0,\"#8e0152\"],[0.1,\"#c51b7d\"],[0.2,\"#de77ae\"],[0.3,\"#f1b6da\"],[0.4,\"#fde0ef\"],[0.5,\"#f7f7f7\"],[0.6,\"#e6f5d0\"],[0.7,\"#b8e186\"],[0.8,\"#7fbc41\"],[0.9,\"#4d9221\"],[1,\"#276419\"]],\"sequential\":[[0.0,\"#0d0887\"],[0.1111111111111111,\"#46039f\"],[0.2222222222222222,\"#7201a8\"],[0.3333333333333333,\"#9c179e\"],[0.4444444444444444,\"#bd3786\"],[0.5555555555555556,\"#d8576b\"],[0.6666666666666666,\"#ed7953\"],[0.7777777777777778,\"#fb9f3a\"],[0.8888888888888888,\"#fdca26\"],[1.0,\"#f0f921\"]],\"sequentialminus\":[[0.0,\"#0d0887\"],[0.1111111111111111,\"#46039f\"],[0.2222222222222222,\"#7201a8\"],[0.3333333333333333,\"#9c179e\"],[0.4444444444444444,\"#bd3786\"],[0.5555555555555556,\"#d8576b\"],[0.6666666666666666,\"#ed7953\"],[0.7777777777777778,\"#fb9f3a\"],[0.8888888888888888,\"#fdca26\"],[1.0,\"#f0f921\"]]},\"colorway\":[\"#636efa\",\"#EF553B\",\"#00cc96\",\"#ab63fa\",\"#FFA15A\",\"#19d3f3\",\"#FF6692\",\"#B6E880\",\"#FF97FF\",\"#FECB52\"],\"font\":{\"color\":\"#2a3f5f\"},\"geo\":{\"bgcolor\":\"white\",\"lakecolor\":\"white\",\"landcolor\":\"#E5ECF6\",\"showlakes\":true,\"showland\":true,\"subunitcolor\":\"white\"},\"hoverlabel\":{\"align\":\"left\"},\"hovermode\":\"closest\",\"mapbox\":{\"style\":\"light\"},\"paper_bgcolor\":\"white\",\"plot_bgcolor\":\"#E5ECF6\",\"polar\":{\"angularaxis\":{\"gridcolor\":\"white\",\"linecolor\":\"white\",\"ticks\":\"\"},\"bgcolor\":\"#E5ECF6\",\"radialaxis\":{\"gridcolor\":\"white\",\"linecolor\":\"white\",\"ticks\":\"\"}},\"scene\":{\"xaxis\":{\"backgroundcolor\":\"#E5ECF6\",\"gridcolor\":\"white\",\"gridwidth\":2,\"linecolor\":\"white\",\"showbackground\":true,\"ticks\":\"\",\"zerolinecolor\":\"white\"},\"yaxis\":{\"backgroundcolor\":\"#E5ECF6\",\"gridcolor\":\"white\",\"gridwidth\":2,\"linecolor\":\"white\",\"showbackground\":true,\"ticks\":\"\",\"zerolinecolor\":\"white\"},\"zaxis\":{\"backgroundcolor\":\"#E5ECF6\",\"gridcolor\":\"white\",\"gridwidth\":2,\"linecolor\":\"white\",\"showbackground\":true,\"ticks\":\"\",\"zerolinecolor\":\"white\"}},\"shapedefaults\":{\"line\":{\"color\":\"#2a3f5f\"}},\"ternary\":{\"aaxis\":{\"gridcolor\":\"white\",\"linecolor\":\"white\",\"ticks\":\"\"},\"baxis\":{\"gridcolor\":\"white\",\"linecolor\":\"white\",\"ticks\":\"\"},\"bgcolor\":\"#E5ECF6\",\"caxis\":{\"gridcolor\":\"white\",\"linecolor\":\"white\",\"ticks\":\"\"}},\"title\":{\"x\":0.05},\"xaxis\":{\"automargin\":true,\"gridcolor\":\"white\",\"linecolor\":\"white\",\"ticks\":\"\",\"title\":{\"standoff\":15},\"zerolinecolor\":\"white\",\"zerolinewidth\":2},\"yaxis\":{\"automargin\":true,\"gridcolor\":\"white\",\"linecolor\":\"white\",\"ticks\":\"\",\"title\":{\"standoff\":15},\"zerolinecolor\":\"white\",\"zerolinewidth\":2}}}},                        {\"responsive\": true}                    ).then(function(){\n",
              "                            \n",
              "var gd = document.getElementById('fce57b23-3a6b-42bf-af44-ecd4b64538ed');\n",
              "var x = new MutationObserver(function (mutations, observer) {{\n",
              "        var display = window.getComputedStyle(gd).display;\n",
              "        if (!display || display === 'none') {{\n",
              "            console.log([gd, 'removed!']);\n",
              "            Plotly.purge(gd);\n",
              "            observer.disconnect();\n",
              "        }}\n",
              "}});\n",
              "\n",
              "// Listen for the removal of the full notebook cells\n",
              "var notebookContainer = gd.closest('#notebook-container');\n",
              "if (notebookContainer) {{\n",
              "    x.observe(notebookContainer, {childList: true});\n",
              "}}\n",
              "\n",
              "// Listen for the clearing of the current output cell\n",
              "var outputEl = gd.closest('.output');\n",
              "if (outputEl) {{\n",
              "    x.observe(outputEl, {childList: true});\n",
              "}}\n",
              "\n",
              "                        })                };                });            </script>        </div>"
            ]
          },
          "metadata": {}
        }
      ],
      "source": [
        "# plotting a pie chart for fraud and non-fraud transactions\n",
        "\n",
        "fraud_or_not = data[\"isFraud\"].value_counts().tolist()\n",
        "\n",
        "labels = ['Not Fraud','Frauds']\n",
        "values = [fraud_or_not[0], fraud_or_not[1]]\n",
        "colors = ['skyblue', 'red']\n",
        "\n",
        "trace = go.Pie(labels=labels, values=values, textinfo='value', \n",
        "               textfont=dict(size=20),\n",
        "               marker=dict(colors=colors, line=dict(color='#000000', width=0.1)))\n",
        "\n",
        "plotly.offline.iplot([trace], filename='styled_pie_chart')"
      ]
    },
    {
      "cell_type": "code",
      "execution_count": null,
      "metadata": {
        "colab": {
          "base_uri": "https://localhost:8080/"
        },
        "id": "vKfpDysIkjhy",
        "outputId": "dabdfb35-5371-492b-aa13-3a210bd25b62"
      },
      "outputs": [
        {
          "output_type": "stream",
          "name": "stdout",
          "text": [
            "\n",
            "\u001b[1m  Fraudulent Transaction Distribution by amount \u001b[0m\n",
            "--------------------------------------------------\n",
            "181.00       2\n",
            "18627.02     2\n",
            "60726.57     2\n",
            "120074.73    2\n",
            "86070.17     2\n",
            "Name: amount, dtype: int64\n"
          ]
        }
      ],
      "source": [
        "print('\\n\\033[1m  Fraudulent Transaction Distribution by amount \\033[0m')\n",
        "print(\"-\"*50)\n",
        "print(data[(data['isFraud'] == 1)]['amount'].value_counts().head())"
      ]
    },
    {
      "cell_type": "code",
      "execution_count": null,
      "metadata": {
        "colab": {
          "base_uri": "https://localhost:8080/",
          "height": 884
        },
        "id": "fTN49J_6k3JE",
        "outputId": "b577ed32-b708-459e-c2e1-14637c61c20a"
      },
      "outputs": [
        {
          "output_type": "display_data",
          "data": {
            "text/plain": [
              "<Figure size 576x1080 with 2 Axes>"
            ],
            "image/png": "[encoded data removed]"
          },
          "metadata": {
            "needs_background": "light"
          }
        }
      ],
      "source": [
        "corr = data.corrwith(data['isFraud']).reset_index()\n",
        "\n",
        "corr.columns = ['Index','Correlations']\n",
        "corr = corr.set_index('Index')\n",
        "corr = corr.sort_values(by=['Correlations'], ascending = False)\n",
        "\n",
        "plt.figure(figsize=(8, 15))\n",
        "fig = sns.heatmap(corr, annot=True, fmt=\"g\", cmap='Set3', linewidths=0.4, linecolor='green')\n",
        "\n",
        "plt.title(\"Correlation of Variables with Class\", fontsize=20)\n",
        "plt.show()"
      ]
    },
    {
      "cell_type": "code",
      "execution_count": null,
      "metadata": {
        "colab": {
          "base_uri": "https://localhost:8080/",
          "height": 501
        },
        "id": "uGACpFqrk9mH",
        "outputId": "7aaefcb5-e6b1-4b9c-f427-23f5fa05de27"
      },
      "outputs": [
        {
          "output_type": "display_data",
          "data": {
            "text/plain": [
              "<Figure size 864x576 with 2 Axes>"
            ],
            "image/png": "[encoded data removed]"
          },
          "metadata": {
            "needs_background": "light"
          }
        }
      ],
      "source": [
        "# Heatmap for explainatory variables\n",
        "\n",
        "plt.subplots(figsize=(12,8))\n",
        "plt.title(\"Correlation Matrix\", fontsize=15)\n",
        "sns.heatmap(data[['type', 'amount','isFraud']].corr(),linewidths=0.9, cmap=\"Paired\", linecolor='green',annot=True, annot_kws={'size':16},);"
      ]
    },
    {
      "cell_type": "code",
      "execution_count": null,
      "metadata": {
        "colab": {
          "base_uri": "https://localhost:8080/",
          "height": 589
        },
        "id": "8OKmwvMFlXpN",
        "outputId": "2175ba06-b20e-46d9-d463-638d6923705b"
      },
      "outputs": [
        {
          "output_type": "display_data",
          "data": {
            "text/plain": [
              "<Figure size 1440x720 with 2 Axes>"
            ],
            "image/png": "[encoded data removed]"
          },
          "metadata": {
            "needs_background": "light"
          }
        }
      ],
      "source": [
        "f, (ax1, ax2) = plt.subplots(2, 1, sharex=True, figsize=(20,10))\n",
        "\n",
        "fraud_transactions = data.amount[data.isFraud == 1]\n",
        "normal_transactions = data.amount[data.isFraud == 0]\n",
        "\n",
        "ax1.hist(fraud_transactions, bins = 50, color='deeppink', edgecolor=\"black\")\n",
        "ax1.set_xlim([min(fraud_transactions), max(fraud_transactions)])\n",
        "ax1.set_title('Fraudulent Transactions', fontsize=15)\n",
        "ax1.set_ylabel(\"Number of Transactions\",  fontsize=13)\n",
        "\n",
        "ax2.hist(normal_transactions, bins = 50, color='deepskyblue', edgecolor=\"black\")\n",
        "ax2.set_xlim([min(normal_transactions), max(normal_transactions)])\n",
        "ax2.set_title('Normal Transactions',  fontsize=15)\n",
        "\n",
        "ax2.set_xlabel('Time (in Seconds)',  fontsize=13)\n",
        "ax2.set_ylabel('Number of Transactions',  fontsize=13)\n",
        "\n",
        "plt.show()"
      ]
    },
    {
      "cell_type": "code",
      "execution_count": null,
      "metadata": {
        "colab": {
          "base_uri": "https://localhost:8080/",
          "height": 499
        },
        "id": "LPLIiDkIltzV",
        "outputId": "41ab7ea8-ef32-4438-b500-d8e1bc0da0eb"
      },
      "outputs": [
        {
          "output_type": "display_data",
          "data": {
            "text/plain": [
              "<Figure size 1440x576 with 1 Axes>"
            ],
            "image/png": "[encoded data removed]"
          },
          "metadata": {
            "needs_background": "light"
          }
        }
      ],
      "source": [
        "# Exploring the distribuition by Class types throught hours and minutes\n",
        "\n",
        "plt.figure(figsize=(20,8))\n",
        "\n",
        "sns.distplot(data[data['isFraud'] == 0]['amount'], bins=24, color='m')\n",
        "sns.distplot(data[data['isFraud'] == 1][\"amount\"], bins=24, color='r')\n",
        "\n",
        "plt.title('Fraudulent and Normal Transactions', fontsize=20)\n",
        "\n",
        "plt.xlabel(\"Fraudulent and Normal Transactions \", fontsize=13)\n",
        "plt.xlim([-1,25])\n",
        "plt.show()"
      ]
    },
    {
      "cell_type": "code",
      "execution_count": null,
      "metadata": {
        "id": "0Klw2bOoqs7X"
      },
      "outputs": [],
      "source": [
        "temp = data.copy()"
      ]
    },
    {
      "cell_type": "code",
      "execution_count": null,
      "metadata": {
        "id": "l7HgSRTqq4Wv"
      },
      "outputs": [],
      "source": [
        "Q3 = np.percentile(data['amount'], 75)\n",
        "Q1 = np.percentile(data['amount'], 25)"
      ]
    },
    {
      "cell_type": "code",
      "execution_count": null,
      "metadata": {
        "id": "BryZf_OKq7ec"
      },
      "outputs": [],
      "source": [
        "cutoff = 5.0"
      ]
    },
    {
      "cell_type": "code",
      "execution_count": null,
      "metadata": {
        "id": "zrHNpmX6rQWb"
      },
      "outputs": [],
      "source": [
        "IQR = (Q3 - Q1)"
      ]
    },
    {
      "cell_type": "code",
      "execution_count": null,
      "metadata": {
        "colab": {
          "base_uri": "https://localhost:8080/"
        },
        "id": "JXJw9WTBq_f5",
        "outputId": "55d10ed8-724b-40f2-dd86-5c07d14b7883"
      },
      "outputs": [
        {
          "output_type": "stream",
          "name": "stdout",
          "text": [
            "Total Number of Outliers : 672\n",
            "Number of Outliers in Fraudulent Class : 22\n",
            "No of Outliers in Normal Class : 650\n",
            "Percentage of Fraud amount outliers : 3.27%\n"
          ]
        }
      ],
      "source": [
        "lower_bound = Q1 - (IQR * cutoff)\n",
        "upper_bound = Q3 + (IQR * cutoff)\n",
        "\n",
        "# creating a filter to remove values less than lower bound and greater than\n",
        "# upper bound\n",
        "filter_data = (data['amount'] < lower_bound) | (data['amount'] > upper_bound)\n",
        "\n",
        "# filtering data\n",
        "outliers = data[filter_data]['amount']\n",
        "fraud_outliers = data[(data['isFraud'] == 1) & filter_data]['amount']\n",
        "normal_outliers = data[(data['isFraud'] == 0) & filter_data]['amount']\n",
        "\n",
        "print(f\"Total Number of Outliers : {outliers.count()}\")\n",
        "print(f\"Number of Outliers in Fraudulent Class : {fraud_outliers.count()}\")\n",
        "print(f\"No of Outliers in Normal Class : {normal_outliers.count()}\")\n",
        "print(f\"Percentage of Fraud amount outliers : {round((fraud_outliers.count()/outliers.count())*100,2)}%\")"
      ]
    },
    {
      "cell_type": "code",
      "execution_count": null,
      "metadata": {
        "id": "80tyvzqmrVVy"
      },
      "outputs": [],
      "source": [
        "# applying log transformation of Amount column\n",
        "\n",
        "data['amount'] = np.log(data['amount'] + 0.001)"
      ]
    },
    {
      "cell_type": "code",
      "execution_count": null,
      "metadata": {
        "colab": {
          "base_uri": "https://localhost:8080/",
          "height": 521
        },
        "id": "c82PKryorlLH",
        "outputId": "43d59c3a-f201-41fb-ca34-3c8d3582b981"
      },
      "outputs": [
        {
          "output_type": "display_data",
          "data": {
            "text/plain": [
              "<Figure size 864x576 with 1 Axes>"
            ],
            "image/png": "[encoded data removed]"
          },
          "metadata": {
            "needs_background": "light"
          }
        }
      ],
      "source": [
        "# Box Plot for transformed Amount feature with class\n",
        "\n",
        "plt.figure(figsize=(12,8))\n",
        "sns.boxplot(x =\"isFraud\", y=\"amount\", data=data, palette='Set2');\n",
        "plt.xlabel(\"amount\", fontsize=13)\n",
        "plt.ylabel(\"isFraud\", fontsize=13)\n",
        "plt.title(\"Box Plot for Transformed Amount Feature\", fontsize=20);"
      ]
    },
    {
      "cell_type": "code",
      "execution_count": null,
      "metadata": {
        "id": "3KmOSekhLgXu"
      },
      "outputs": [],
      "source": [
        "df=data.drop(['Unnamed: 0', 'step','nameOrig','nameDest','isFlaggedFraud'], axis=1)"
      ]
    },
    {
      "cell_type": "code",
      "execution_count": null,
      "metadata": {
        "colab": {
          "base_uri": "https://localhost:8080/"
        },
        "id": "569oUMdBtl3g",
        "outputId": "cdfaf7c4-4bf0-408f-e33b-902295eb6512"
      },
      "outputs": [
        {
          "output_type": "execute_result",
          "data": {
            "text/plain": [
              "type               0\n",
              "amount             0\n",
              "oldbalanceOrg     13\n",
              "newbalanceOrig     1\n",
              "oldbalanceDest     1\n",
              "newbalanceDest     1\n",
              "isFraud            0\n",
              "dtype: int64"
            ]
          },
          "metadata": {},
          "execution_count": 26
        }
      ],
      "source": [
        "df['isFraud'] = df['isFraud'].fillna(df['isFraud'].mean())\n",
        "df.isnull().sum()\n",
        "\n"
      ]
    },
    {
      "cell_type": "code",
      "execution_count": null,
      "metadata": {
        "colab": {
          "base_uri": "https://localhost:8080/"
        },
        "id": "laUnvkE5RmsQ",
        "outputId": "54c30d5d-95e4-4327-de2b-5a858f649385"
      },
      "outputs": [
        {
          "output_type": "stream",
          "name": "stdout",
          "text": [
            "\n",
            "Data Frame after Label Encoding using Category codes:\n",
            "\n",
            "       type     amount  oldbalanceOrg  newbalanceOrig  oldbalanceDest  \\\n",
            "0         3   9.194175       170136.0       160296.36            0.00   \n",
            "1         3   7.530631        21249.0        19384.72            0.00   \n",
            "2         4   5.198503          181.0            0.00            0.00   \n",
            "3         1   5.198503          181.0            0.00        21182.00   \n",
            "4         3   9.364617        41554.0        29885.86            0.00   \n",
            "...     ...        ...            ...             ...             ...   \n",
            "27651     0  11.165626       312618.0       264400.64        86394.58   \n",
            "27652     0  12.886385        25660.0       659299.41      4506548.96   \n",
            "27653     0  11.252816         4505.0       736396.13      6442111.25   \n",
            "27654     0  12.577129        11560.0      1026248.94      1199172.88   \n",
            "27655     0  10.876523            NaN             NaN             NaN   \n",
            "\n",
            "       newbalanceDest  isFraud  \n",
            "0                0.00  0.00000  \n",
            "1                0.00  0.00000  \n",
            "2                0.00  1.00000  \n",
            "3                0.00  1.00000  \n",
            "4                0.00  0.00000  \n",
            "...               ...      ...  \n",
            "27651        15735.18  0.00000  \n",
            "27652      2984846.84  0.00000  \n",
            "27653      6097795.83  0.00000  \n",
            "27654       994391.70  0.00000  \n",
            "27655             NaN  0.01121  \n",
            "\n",
            "[27656 rows x 7 columns]\n"
          ]
        }
      ],
      "source": [
        "df[ 'type' ] = df[ 'type' ].astype( 'category' ) \n",
        "print(\"\\nData Frame after Label Encoding using Category codes:\\n\")  \n",
        "df[ 'type' ] = df[ 'type' ].cat.codes  \n",
        "  \n",
        "print(df)    "
      ]
    },
    {
      "cell_type": "code",
      "execution_count": null,
      "metadata": {
        "colab": {
          "base_uri": "https://localhost:8080/"
        },
        "id": "8s8hnau3O7b7",
        "outputId": "c8e52907-f3c4-4912-ed08-c77e7e8289fa"
      },
      "outputs": [
        {
          "output_type": "execute_result",
          "data": {
            "text/plain": [
              "type              0\n",
              "amount            0\n",
              "oldbalanceOrg     0\n",
              "newbalanceOrig    0\n",
              "oldbalanceDest    0\n",
              "newbalanceDest    0\n",
              "isFraud           0\n",
              "dtype: int64"
            ]
          },
          "metadata": {},
          "execution_count": 37
        }
      ],
      "source": [
        "df['oldbalanceOrg'] = df['oldbalanceOrg'].fillna(df['oldbalanceOrg'].mode()[0])\n",
        "df['newbalanceOrig'] = df['newbalanceOrig'].fillna(df['newbalanceOrig'].mode()[0])\n",
        "df['oldbalanceDest'] = df['oldbalanceDest'].fillna(df['oldbalanceDest'].mode()[0])\n",
        "df['newbalanceDest'] = df['newbalanceDest'].fillna(df['newbalanceDest'].mode()[0])\n",
        "df.isnull().sum()"
      ]
    },
    {
      "cell_type": "code",
      "execution_count": null,
      "metadata": {
        "id": "AAXEkSWNC1f0"
      },
      "outputs": [],
      "source": [
        "df['isFraud'] = df['isFraud'].astype(int)"
      ]
    },
    {
      "cell_type": "code",
      "execution_count": null,
      "metadata": {
        "id": "7KSWJoNyDVHU"
      },
      "outputs": [],
      "source": [
        "df['oldbalanceOrg'] = df['oldbalanceOrg'].astype(int)"
      ]
    },
    {
      "cell_type": "code",
      "execution_count": null,
      "metadata": {
        "id": "VPAY5y0RDKZt"
      },
      "outputs": [],
      "source": [
        "df['amount'] = df['amount'].astype(int)"
      ]
    },
    {
      "cell_type": "code",
      "execution_count": null,
      "metadata": {
        "id": "i2e_oBsiDcJQ"
      },
      "outputs": [],
      "source": [
        "df['newbalanceOrig'] = df['newbalanceOrig'].astype(int)"
      ]
    },
    {
      "cell_type": "code",
      "execution_count": null,
      "metadata": {
        "id": "MuPEsUquDi_i"
      },
      "outputs": [],
      "source": [
        "df['oldbalanceDest'] = df['oldbalanceDest'].astype(int)\n"
      ]
    },
    {
      "cell_type": "code",
      "execution_count": null,
      "metadata": {
        "id": "WtMRckZ7D5zT"
      },
      "outputs": [],
      "source": [
        "df['newbalanceDest'] = df['newbalanceDest'].astype(int)\n"
      ]
    },
    {
      "cell_type": "code",
      "execution_count": null,
      "metadata": {
        "colab": {
          "base_uri": "https://localhost:8080/"
        },
        "id": "QHpe9EekN75E",
        "outputId": "14cf5268-e8a7-420c-9281-d7a1791fadce"
      },
      "outputs": [
        {
          "output_type": "stream",
          "name": "stdout",
          "text": [
            "<class 'pandas.core.frame.DataFrame'>\n",
            "RangeIndex: 27656 entries, 0 to 27655\n",
            "Data columns (total 7 columns):\n",
            " #   Column          Non-Null Count  Dtype\n",
            "---  ------          --------------  -----\n",
            " 0   type            27656 non-null  int8 \n",
            " 1   amount          27656 non-null  int64\n",
            " 2   oldbalanceOrg   27656 non-null  int64\n",
            " 3   newbalanceOrig  27656 non-null  int64\n",
            " 4   oldbalanceDest  27656 non-null  int64\n",
            " 5   newbalanceDest  27656 non-null  int64\n",
            " 6   isFraud         27656 non-null  int64\n",
            "dtypes: int64(6), int8(1)\n",
            "memory usage: 1.3 MB\n"
          ]
        }
      ],
      "source": [
        "df.info()"
      ]
    },
    {
      "cell_type": "code",
      "execution_count": null,
      "metadata": {
        "colab": {
          "base_uri": "https://localhost:8080/"
        },
        "id": "hUHbfAyQRyIm",
        "outputId": "46bb9c2e-87e0-48d9-fd74-23c757bb0e6e"
      },
      "outputs": [
        {
          "output_type": "stream",
          "name": "stdout",
          "text": [
            "       type  amount  oldbalanceOrg  newbalanceOrig  oldbalanceDest  \\\n",
            "0         3       9         170136          160296               0   \n",
            "1         3       7          21249           19384               0   \n",
            "2         4       5            181               0               0   \n",
            "3         1       5            181               0           21182   \n",
            "4         3       9          41554           29885               0   \n",
            "...     ...     ...            ...             ...             ...   \n",
            "27651     0      11         312618          264400           86394   \n",
            "27652     0      12          25660          659299         4506548   \n",
            "27653     0      11           4505          736396         6442111   \n",
            "27654     0      12          11560         1026248         1199172   \n",
            "27655     0      10              0               0               0   \n",
            "\n",
            "       newbalanceDest  isFraud  \n",
            "0                   0        0  \n",
            "1                   0        0  \n",
            "2                   0        1  \n",
            "3                   0        1  \n",
            "4                   0        0  \n",
            "...               ...      ...  \n",
            "27651           15735        0  \n",
            "27652         2984846        0  \n",
            "27653         6097795        0  \n",
            "27654          994391        0  \n",
            "27655               0        0  \n",
            "\n",
            "[27656 rows x 7 columns]\n"
          ]
        }
      ],
      "source": [
        "print(df)"
      ]
    },
    {
      "cell_type": "code",
      "execution_count": null,
      "metadata": {
        "id": "feviO9_VrxJG"
      },
      "outputs": [],
      "source": [
        "robust_scaler = RobustScaler()\n",
        "df['newbalanceOrig'] = robust_scaler.fit_transform(df['newbalanceOrig'].values.reshape(-1,1))"
      ]
    },
    {
      "cell_type": "code",
      "execution_count": null,
      "metadata": {
        "colab": {
          "base_uri": "https://localhost:8080/"
        },
        "id": "uJhDszmFaWnA",
        "outputId": "76115ea5-c57c-4ae7-e35a-8eb0668213e6"
      },
      "outputs": [
        {
          "output_type": "stream",
          "name": "stdout",
          "text": [
            "shape of original dataset : (27656, 7)\n",
            "shape of input - training set (19359, 6)\n",
            "shape of output - training set (19359,)\n",
            "shape of input - testing set (8297, 6)\n",
            "shape of output - testing set (8297,)\n"
          ]
        }
      ],
      "source": [
        "import seaborn as sns\n",
        "from sklearn.model_selection import train_test_split\n",
        "    \n",
        "#output vector\n",
        "y = df.isFraud\n",
        "  \n",
        "#input vector\n",
        "x=df.drop('isFraud',axis=1)\n",
        "  \n",
        "#split\n",
        "x_train,x_test,y_train,y_test=train_test_split(x,y,test_size=0.3)\n",
        "  \n",
        "#verify\n",
        "print(\"shape of original dataset :\", df.shape)\n",
        "print(\"shape of input - training set\", x_train.shape)\n",
        "print(\"shape of output - training set\", y_train.shape)\n",
        "print(\"shape of input - testing set\", x_test.shape)\n",
        "print(\"shape of output - testing set\", y_test.shape)"
      ]
    },
    {
      "cell_type": "code",
      "execution_count": null,
      "metadata": {
        "colab": {
          "base_uri": "https://localhost:8080/"
        },
        "id": "kG1fo-ZymD4H",
        "outputId": "635e3cbb-96fd-4724-ff4f-65a3feec4464"
      },
      "outputs": [
        {
          "output_type": "stream",
          "name": "stdout",
          "text": [
            "       type  amount  oldbalanceOrg  newbalanceOrig  oldbalanceDest  \\\n",
            "0         3       9         170136        1.093113               0   \n",
            "1         3       7          21249        0.106726               0   \n",
            "2         4       5            181       -0.028963               0   \n",
            "3         1       5            181       -0.028963           21182   \n",
            "4         3       9          41554        0.180233               0   \n",
            "...     ...     ...            ...             ...             ...   \n",
            "27651     0      11         312618        1.821843           86394   \n",
            "27652     0      12          25660        4.586143         4506548   \n",
            "27653     0      11           4505        5.125824         6442111   \n",
            "27654     0      12          11560        7.154793         1199172   \n",
            "27655     0      10              0       -0.028963               0   \n",
            "\n",
            "       newbalanceDest  \n",
            "0                   0  \n",
            "1                   0  \n",
            "2                   0  \n",
            "3                   0  \n",
            "4                   0  \n",
            "...               ...  \n",
            "27651           15735  \n",
            "27652         2984846  \n",
            "27653         6097795  \n",
            "27654          994391  \n",
            "27655               0  \n",
            "\n",
            "[27656 rows x 6 columns]\n"
          ]
        }
      ],
      "source": [
        "print(x)"
      ]
    },
    {
      "cell_type": "code",
      "execution_count": null,
      "metadata": {
        "colab": {
          "base_uri": "https://localhost:8080/"
        },
        "id": "16DjVNCxmLGm",
        "outputId": "6f16775e-4eaa-45c5-bb07-c7de1a6340f1"
      },
      "outputs": [
        {
          "output_type": "stream",
          "name": "stdout",
          "text": [
            "0        0\n",
            "1        0\n",
            "2        1\n",
            "3        1\n",
            "4        0\n",
            "        ..\n",
            "27651    0\n",
            "27652    0\n",
            "27653    0\n",
            "27654    0\n",
            "27655    0\n",
            "Name: isFraud, Length: 27656, dtype: int64\n"
          ]
        }
      ],
      "source": [
        "print(y)"
      ]
    },
    {
      "cell_type": "code",
      "execution_count": null,
      "metadata": {
        "colab": {
          "base_uri": "https://localhost:8080/"
        },
        "id": "HGP0BtD6mWTp",
        "outputId": "9009abfc-1901-4aa7-845a-0ed652a99571"
      },
      "outputs": [
        {
          "output_type": "stream",
          "name": "stdout",
          "text": [
            "       type  amount  oldbalanceOrg  newbalanceOrig  oldbalanceDest  \\\n",
            "0         3       9         170136        1.093113               0   \n",
            "1         3       7          21249        0.106726               0   \n",
            "2         4       5            181       -0.028963               0   \n",
            "3         1       5            181       -0.028963           21182   \n",
            "4         3       9          41554        0.180233               0   \n",
            "...     ...     ...            ...             ...             ...   \n",
            "27651     0      11         312618        1.821843           86394   \n",
            "27652     0      12          25660        4.586143         4506548   \n",
            "27653     0      11           4505        5.125824         6442111   \n",
            "27654     0      12          11560        7.154793         1199172   \n",
            "27655     0      10              0       -0.028963               0   \n",
            "\n",
            "       newbalanceDest  \n",
            "0                   0  \n",
            "1                   0  \n",
            "2                   0  \n",
            "3                   0  \n",
            "4                   0  \n",
            "...               ...  \n",
            "27651           15735  \n",
            "27652         2984846  \n",
            "27653         6097795  \n",
            "27654          994391  \n",
            "27655               0  \n",
            "\n",
            "[27656 rows x 6 columns]\n"
          ]
        }
      ],
      "source": [
        "print(x)\n"
      ]
    },
    {
      "cell_type": "code",
      "execution_count": null,
      "metadata": {
        "id": "Eo3fqc_EsUvl"
      },
      "outputs": [],
      "source": [
        "from sklearn.compose import ColumnTransformer\n",
        "from sklearn.preprocessing import OneHotEncoder\n",
        "ct = ColumnTransformer(transformers=[('encoder', OneHotEncoder(), [0])], remainder= 'passthrough')\n",
        "x = np.array(ct.fit_transform(x))"
      ]
    },
    {
      "cell_type": "code",
      "execution_count": null,
      "metadata": {
        "colab": {
          "base_uri": "https://localhost:8080/"
        },
        "id": "ioxRAFVnsrcM",
        "outputId": "7f4a410f-7888-44ff-9c6e-fbcdd7a1b285"
      },
      "outputs": [
        {
          "output_type": "stream",
          "name": "stdout",
          "text": [
            "[[ 0.00000000e+00  0.00000000e+00  0.00000000e+00 ...  1.09311251e+00\n",
            "   0.00000000e+00  0.00000000e+00]\n",
            " [ 0.00000000e+00  0.00000000e+00  0.00000000e+00 ...  1.06725793e-01\n",
            "   0.00000000e+00  0.00000000e+00]\n",
            " [ 0.00000000e+00  0.00000000e+00  0.00000000e+00 ... -2.89625796e-02\n",
            "   0.00000000e+00  0.00000000e+00]\n",
            " ...\n",
            " [ 1.00000000e+00  0.00000000e+00  0.00000000e+00 ...  5.12582360e+00\n",
            "   6.44211100e+06  6.09779500e+06]\n",
            " [ 1.00000000e+00  0.00000000e+00  0.00000000e+00 ...  7.15479318e+00\n",
            "   1.19917200e+06  9.94391000e+05]\n",
            " [ 1.00000000e+00  0.00000000e+00  0.00000000e+00 ... -2.89625796e-02\n",
            "   0.00000000e+00  0.00000000e+00]]\n"
          ]
        }
      ],
      "source": [
        "print(x)"
      ]
    },
    {
      "cell_type": "code",
      "execution_count": null,
      "metadata": {
        "id": "hdQeWOfcmhtw"
      },
      "outputs": [],
      "source": [
        "from sklearn.preprocessing import LabelEncoder\n",
        "le = LabelEncoder()\n",
        "y = le.fit_transform(y)"
      ]
    },
    {
      "cell_type": "code",
      "execution_count": null,
      "metadata": {
        "colab": {
          "base_uri": "https://localhost:8080/"
        },
        "id": "sAClkQA_mlJm",
        "outputId": "72fd0316-0fd4-46d4-e650-e56e606f0201"
      },
      "outputs": [
        {
          "output_type": "stream",
          "name": "stdout",
          "text": [
            "[0 0 1 ... 0 0 0]\n"
          ]
        }
      ],
      "source": [
        "print(y)"
      ]
    },
    {
      "cell_type": "code",
      "execution_count": null,
      "metadata": {
        "id": "rMrqoNFvmq4W"
      },
      "outputs": [],
      "source": [
        "from sklearn.model_selection import train_test_split\n",
        "x_train, x_test, y_train, y_test = train_test_split(x, y, test_size = 0.3,random_state= 1)"
      ]
    },
    {
      "cell_type": "code",
      "execution_count": null,
      "metadata": {
        "colab": {
          "base_uri": "https://localhost:8080/"
        },
        "id": "I8ANz5Ebmwrr",
        "outputId": "1a08fbbe-c4d2-432d-bfdc-d217c07637f3"
      },
      "outputs": [
        {
          "output_type": "stream",
          "name": "stdout",
          "text": [
            "[[ 0.00000000e+00  0.00000000e+00  0.00000000e+00 ... -6.59751814e-03\n",
            "   0.00000000e+00  0.00000000e+00]\n",
            " [ 0.00000000e+00  0.00000000e+00  0.00000000e+00 ... -2.89625796e-02\n",
            "   0.00000000e+00  0.00000000e+00]\n",
            " [ 1.00000000e+00  0.00000000e+00  0.00000000e+00 ...  1.52359969e+00\n",
            "   1.05047930e+07  1.03889040e+07]\n",
            " ...\n",
            " [ 0.00000000e+00  0.00000000e+00  0.00000000e+00 ... -2.89625796e-02\n",
            "   0.00000000e+00  0.00000000e+00]\n",
            " [ 0.00000000e+00  1.00000000e+00  0.00000000e+00 ... -2.89625796e-02\n",
            "   8.62936000e+05  1.76141300e+06]\n",
            " [ 0.00000000e+00  0.00000000e+00  0.00000000e+00 ...  3.95116087e-02\n",
            "   0.00000000e+00  0.00000000e+00]]\n"
          ]
        }
      ],
      "source": [
        "print(x_train)"
      ]
    },
    {
      "cell_type": "code",
      "execution_count": null,
      "metadata": {
        "colab": {
          "base_uri": "https://localhost:8080/"
        },
        "id": "4pVeO0F2m2Jz",
        "outputId": "f9eb1d2a-00fe-4e9d-8c42-6ae7152f1938"
      },
      "outputs": [
        {
          "output_type": "stream",
          "name": "stdout",
          "text": [
            "[[ 1.00000000e+00  0.00000000e+00  0.00000000e+00 ...  1.63218399e+00\n",
            "   1.87979000e+05  1.27609000e+05]\n",
            " [ 0.00000000e+00  0.00000000e+00  0.00000000e+00 ...  3.03496335e-01\n",
            "   0.00000000e+00  0.00000000e+00]\n",
            " [ 0.00000000e+00  0.00000000e+00  0.00000000e+00 ... -2.89625796e-02\n",
            "   0.00000000e+00  0.00000000e+00]\n",
            " ...\n",
            " [ 0.00000000e+00  0.00000000e+00  0.00000000e+00 ... -2.89625796e-02\n",
            "   0.00000000e+00  0.00000000e+00]\n",
            " [ 0.00000000e+00  0.00000000e+00  0.00000000e+00 ...  6.84920384e-01\n",
            "   0.00000000e+00  0.00000000e+00]\n",
            " [ 0.00000000e+00  1.00000000e+00  0.00000000e+00 ... -2.89625796e-02\n",
            "   0.00000000e+00  3.94387000e+05]]\n"
          ]
        }
      ],
      "source": [
        "print(x_test)"
      ]
    },
    {
      "cell_type": "code",
      "execution_count": null,
      "metadata": {
        "colab": {
          "base_uri": "https://localhost:8080/"
        },
        "id": "LeDlcQM-m4Bd",
        "outputId": "f8315ec4-64e6-4cf7-ceff-9b4f31900649"
      },
      "outputs": [
        {
          "output_type": "stream",
          "name": "stdout",
          "text": [
            "[0 0 0 ... 0 0 1]\n"
          ]
        }
      ],
      "source": [
        "print(y_train)\n"
      ]
    },
    {
      "cell_type": "code",
      "execution_count": null,
      "metadata": {
        "colab": {
          "base_uri": "https://localhost:8080/"
        },
        "id": "vRlwrhnDm70s",
        "outputId": "e6f27002-b708-44e1-8ee6-2d4048b83528"
      },
      "outputs": [
        {
          "output_type": "stream",
          "name": "stdout",
          "text": [
            "[0 0 0 ... 0 0 0]\n"
          ]
        }
      ],
      "source": [
        "print(y_test)"
      ]
    },
    {
      "cell_type": "code",
      "execution_count": null,
      "metadata": {
        "id": "V37odKtDm-88"
      },
      "outputs": [],
      "source": [
        "from sklearn.preprocessing import StandardScaler\n",
        "sc = StandardScaler()\n",
        "# we only aply the feature scaling on the features other than dummy variables.\n",
        "x_train[:, :3] = sc.fit_transform(x_train[:, :3])\n",
        "x_test[:, 3:] = sc.fit_transform(x_test[:, 3:])\n"
      ]
    },
    {
      "cell_type": "code",
      "execution_count": null,
      "metadata": {
        "colab": {
          "base_uri": "https://localhost:8080/"
        },
        "id": "wLmvJzhcnExM",
        "outputId": "6d29b015-dda1-4d63-ee69-b70786e75589"
      },
      "outputs": [
        {
          "output_type": "stream",
          "name": "stdout",
          "text": [
            "[[-4.62145253e-01 -5.20681911e-01 -1.39203448e-01 ... -6.59751814e-03\n",
            "   0.00000000e+00  0.00000000e+00]\n",
            " [-4.62145253e-01 -5.20681911e-01 -1.39203448e-01 ... -2.89625796e-02\n",
            "   0.00000000e+00  0.00000000e+00]\n",
            " [ 2.16382186e+00 -5.20681911e-01 -1.39203448e-01 ...  1.52359969e+00\n",
            "   1.05047930e+07  1.03889040e+07]\n",
            " ...\n",
            " [-4.62145253e-01 -5.20681911e-01 -1.39203448e-01 ... -2.89625796e-02\n",
            "   0.00000000e+00  0.00000000e+00]\n",
            " [-4.62145253e-01  1.92055837e+00 -1.39203448e-01 ... -2.89625796e-02\n",
            "   8.62936000e+05  1.76141300e+06]\n",
            " [-4.62145253e-01 -5.20681911e-01 -1.39203448e-01 ...  3.95116087e-02\n",
            "   0.00000000e+00  0.00000000e+00]]\n"
          ]
        }
      ],
      "source": [
        "print(x_train)"
      ]
    },
    {
      "cell_type": "code",
      "execution_count": null,
      "metadata": {
        "colab": {
          "base_uri": "https://localhost:8080/"
        },
        "id": "Z_nFKN5bnIpS",
        "outputId": "6993e7d6-c899-4496-9c66-052e30d43c01"
      },
      "outputs": [
        {
          "output_type": "stream",
          "name": "stdout",
          "text": [
            "[[ 1.          0.          0.         ... -0.26307333 -0.25924603\n",
            "  -0.33794367]\n",
            " [ 0.          0.          0.         ... -0.34943306 -0.33381681\n",
            "  -0.37918245]\n",
            " [ 0.          0.          0.         ... -0.37104164 -0.33381681\n",
            "  -0.37918245]\n",
            " ...\n",
            " [ 0.          0.          0.         ... -0.37104164 -0.33381681\n",
            "  -0.37918245]\n",
            " [ 0.          0.          0.         ... -0.32464192 -0.33381681\n",
            "  -0.37918245]\n",
            " [ 0.          1.          0.         ... -0.37104164 -0.33381681\n",
            "  -0.25173032]]\n"
          ]
        }
      ],
      "source": [
        "print(x_test)"
      ]
    },
    {
      "cell_type": "code",
      "execution_count": null,
      "metadata": {
        "colab": {
          "base_uri": "https://localhost:8080/",
          "height": 74
        },
        "id": "BEr1FFc1nMum",
        "outputId": "ee408542-4565-4065-f4aa-7b7f8aaba1d9"
      },
      "outputs": [
        {
          "output_type": "execute_result",
          "data": {
            "text/plain": [
              "RandomForestClassifier(random_state=7)"
            ],
            "text/html": [
              "<style>#sk-container-id-1 {color: black;background-color: white;}#sk-container-id-1 pre{padding: 0;}#sk-container-id-1 div.sk-toggleable {background-color: white;}#sk-container-id-1 label.sk-toggleable__label {cursor: pointer;display: block;width: 100%;margin-bottom: 0;padding: 0.3em;box-sizing: border-box;text-align: center;}#sk-container-id-1 label.sk-toggleable__label-arrow:before {content: \"▸\";float: left;margin-right: 0.25em;color: #696969;}#sk-container-id-1 label.sk-toggleable__label-arrow:hover:before {color: black;}#sk-container-id-1 div.sk-estimator:hover label.sk-toggleable__label-arrow:before {color: black;}#sk-container-id-1 div.sk-toggleable__content {max-height: 0;max-width: 0;overflow: hidden;text-align: left;background-color: #f0f8ff;}#sk-container-id-1 div.sk-toggleable__content pre {margin: 0.2em;color: black;border-radius: 0.25em;background-color: #f0f8ff;}#sk-container-id-1 input.sk-toggleable__control:checked~div.sk-toggleable__content {max-height: 200px;max-width: 100%;overflow: auto;}#sk-container-id-1 input.sk-toggleable__control:checked~label.sk-toggleable__label-arrow:before {content: \"▾\";}#sk-container-id-1 div.sk-estimator input.sk-toggleable__control:checked~label.sk-toggleable__label {background-color: #d4ebff;}#sk-container-id-1 div.sk-label input.sk-toggleable__control:checked~label.sk-toggleable__label {background-color: #d4ebff;}#sk-container-id-1 input.sk-hidden--visually {border: 0;clip: rect(1px 1px 1px 1px);clip: rect(1px, 1px, 1px, 1px);height: 1px;margin: -1px;overflow: hidden;padding: 0;position: absolute;width: 1px;}#sk-container-id-1 div.sk-estimator {font-family: monospace;background-color: #f0f8ff;border: 1px dotted black;border-radius: 0.25em;box-sizing: border-box;margin-bottom: 0.5em;}#sk-container-id-1 div.sk-estimator:hover {background-color: #d4ebff;}#sk-container-id-1 div.sk-parallel-item::after {content: \"\";width: 100%;border-bottom: 1px solid gray;flex-grow: 1;}#sk-container-id-1 div.sk-label:hover label.sk-toggleable__label {background-color: #d4ebff;}#sk-container-id-1 div.sk-serial::before {content: \"\";position: absolute;border-left: 1px solid gray;box-sizing: border-box;top: 0;bottom: 0;left: 50%;z-index: 0;}#sk-container-id-1 div.sk-serial {display: flex;flex-direction: column;align-items: center;background-color: white;padding-right: 0.2em;padding-left: 0.2em;position: relative;}#sk-container-id-1 div.sk-item {position: relative;z-index: 1;}#sk-container-id-1 div.sk-parallel {display: flex;align-items: stretch;justify-content: center;background-color: white;position: relative;}#sk-container-id-1 div.sk-item::before, #sk-container-id-1 div.sk-parallel-item::before {content: \"\";position: absolute;border-left: 1px solid gray;box-sizing: border-box;top: 0;bottom: 0;left: 50%;z-index: -1;}#sk-container-id-1 div.sk-parallel-item {display: flex;flex-direction: column;z-index: 1;position: relative;background-color: white;}#sk-container-id-1 div.sk-parallel-item:first-child::after {align-self: flex-end;width: 50%;}#sk-container-id-1 div.sk-parallel-item:last-child::after {align-self: flex-start;width: 50%;}#sk-container-id-1 div.sk-parallel-item:only-child::after {width: 0;}#sk-container-id-1 div.sk-dashed-wrapped {border: 1px dashed gray;margin: 0 0.4em 0.5em 0.4em;box-sizing: border-box;padding-bottom: 0.4em;background-color: white;}#sk-container-id-1 div.sk-label label {font-family: monospace;font-weight: bold;display: inline-block;line-height: 1.2em;}#sk-container-id-1 div.sk-label-container {text-align: center;}#sk-container-id-1 div.sk-container {/* jupyter's `normalize.less` sets `[hidden] { display: none; }` but bootstrap.min.css set `[hidden] { display: none !important; }` so we also need the `!important` here to be able to override the default hidden behavior on the sphinx rendered scikit-learn.org. See: https://github.com/scikit-learn/scikit-learn/issues/21755 */display: inline-block !important;position: relative;}#sk-container-id-1 div.sk-text-repr-fallback {display: none;}</style><div id=\"sk-container-id-1\" class=\"sk-top-container\"><div class=\"sk-text-repr-fallback\"><pre>RandomForestClassifier(random_state=7)</pre><b>In a Jupyter environment, please rerun this cell to show the HTML representation or trust the notebook. <br />On GitHub, the HTML representation is unable to render, please try loading this page with nbviewer.org.</b></div><div class=\"sk-container\" hidden><div class=\"sk-item\"><div class=\"sk-estimator sk-toggleable\"><input class=\"sk-toggleable__control sk-hidden--visually\" id=\"sk-estimator-id-1\" type=\"checkbox\" checked><label for=\"sk-estimator-id-1\" class=\"sk-toggleable__label sk-toggleable__label-arrow\">RandomForestClassifier</label><div class=\"sk-toggleable__content\"><pre>RandomForestClassifier(random_state=7)</pre></div></div></div></div></div>"
            ]
          },
          "metadata": {},
          "execution_count": 58
        }
      ],
      "source": [
        "# Create the classifier and fit it to our training data\n",
        "model = RandomForestClassifier(random_state=7, n_estimators=100)\n",
        "model.fit(x_train, y_train)\n"
      ]
    },
    {
      "cell_type": "code",
      "execution_count": null,
      "metadata": {
        "colab": {
          "base_uri": "https://localhost:8080/"
        },
        "id": "aseAwwDdqQU1",
        "outputId": "0aa030ed-52f1-45cd-a2cd-5262bd58f241"
      },
      "outputs": [
        {
          "output_type": "stream",
          "name": "stdout",
          "text": [
            "Accuracy:  0.7032662408099313\n"
          ]
        }
      ],
      "source": [
        "import pandas as pd\n",
        "from sklearn.model_selection import train_test_split\n",
        "from sklearn.ensemble import RandomForestClassifier\n",
        "import sklearn.metrics as metrics\n",
        "# Predict classes given the validation features\n",
        "pred_y = model.predict(x_test)\n",
        "\n",
        "# Calculate the accuracy as our performance metric\n",
        "accuracy = metrics.accuracy_score(y_test, pred_y)\n",
        "print(\"Accuracy: \", accuracy)"
      ]
    },
    {
      "cell_type": "code",
      "execution_count": null,
      "metadata": {
        "id": "6yqWcsJyu-ie"
      },
      "outputs": [],
      "source": [
        "from imblearn.under_sampling import RandomUnderSampler\n",
        "rus = RandomUnderSampler(sampling_strategy=0.2)"
      ]
    },
    {
      "cell_type": "code",
      "execution_count": null,
      "metadata": {
        "id": "rKvUleWlFcqA"
      },
      "outputs": [],
      "source": [
        "import pandas as pd\n",
        "\n",
        "import matplotlib.pyplot as plt\n",
        "%matplotlib inline\n",
        "import seaborn as sns\n",
        "sns.set(palette=\"Set2\")\n",
        "from sklearn.svm import SVC\n",
        "from sklearn.model_selection import train_test_split\n",
        "from sklearn.metrics import (accuracy_score, f1_score,average_precision_score, confusion_matrix,\n",
        "                             average_precision_score, precision_score, recall_score, roc_auc_score, classification_report, roc_curve,auc )\n",
        "from sklearn.model_selection import GridSearchCV\n",
        "from sklearn.naive_bayes import BernoulliNB, MultinomialNB\n",
        "from sklearn.ensemble import RandomForestClassifier\n",
        "from sklearn.preprocessing import LabelEncoder, MinMaxScaler, StandardScaler\n",
        "\n",
        "\n",
        "from xgboost import XGBClassifier, plot_importance\n",
        "\n",
        "import warnings\n",
        "warnings.filterwarnings(\"ignore\")"
      ]
    },
    {
      "cell_type": "code",
      "execution_count": null,
      "metadata": {
        "id": "uhgS99j69u8K"
      },
      "outputs": [],
      "source": [
        "X_res, y_res = rus.fit_resample(x_train, y_train)"
      ]
    },
    {
      "cell_type": "code",
      "execution_count": null,
      "metadata": {
        "colab": {
          "base_uri": "https://localhost:8080/"
        },
        "id": "_cOnkg2y7c0w",
        "outputId": "6f2b0a1b-ebae-45c5-f2c5-7e7279f538cc"
      },
      "outputs": [
        {
          "output_type": "stream",
          "name": "stdout",
          "text": [
            "Precision: 0.2222222222222222\n",
            "Recall: 0.3333333333333333\n",
            "F1 score: 0.26666666666666666\n"
          ]
        }
      ],
      "source": [
        "from sklearn.metrics import precision_recall_fscore_support\n",
        "\n",
        "y_true = [0, 1, 2, 0, 1, 2]  # ground truth labels\n",
        "y_pred = [0, 2, 1, 0, 0, 1]  # predicted labels\n",
        "\n",
        "precision, recall, f1, support = precision_recall_fscore_support(y_true, y_pred, average='weighted')\n",
        "\n",
        "print(\"Precision:\", precision)\n",
        "print(\"Recall:\", recall)\n",
        "print(\"F1 score:\", f1)"
      ]
    },
    {
      "cell_type": "code",
      "execution_count": null,
      "metadata": {
        "id": "xIMpPGd9uxB-"
      },
      "outputs": [],
      "source": [
        "from sklearn.linear_model import LogisticRegression"
      ]
    },
    {
      "cell_type": "code",
      "execution_count": null,
      "metadata": {
        "colab": {
          "base_uri": "https://localhost:8080/"
        },
        "id": "jQEG3HMyuutK",
        "outputId": "239760b2-bb81-463d-c71b-e62768cbc376"
      },
      "outputs": [
        {
          "output_type": "stream",
          "name": "stdout",
          "text": [
            "Accuracy: 0.4927082077859467\n",
            "Confusion Matrix:\n",
            " [[4033 4164]\n",
            " [  45   55]]\n",
            "Classification Report:\n",
            "               precision    recall  f1-score   support\n",
            "\n",
            "           0       0.99      0.49      0.66      8197\n",
            "           1       0.01      0.55      0.03       100\n",
            "\n",
            "    accuracy                           0.49      8297\n",
            "   macro avg       0.50      0.52      0.34      8297\n",
            "weighted avg       0.98      0.49      0.65      8297\n",
            "\n",
            "Confusion Matrix Train:\n",
            " [[19146     3]\n",
            " [  210     0]]\n",
            "Classification Report Train:\n",
            "               precision    recall  f1-score   support\n",
            "\n",
            "           0       0.99      1.00      0.99     19149\n",
            "           1       0.00      0.00      0.00       210\n",
            "\n",
            "    accuracy                           0.99     19359\n",
            "   macro avg       0.49      0.50      0.50     19359\n",
            "weighted avg       0.98      0.99      0.98     19359\n",
            "\n",
            "Precision: 0.013036264517658214\n",
            "Recall: 0.55\n",
            "F1: 0.02546885853206761\n",
            "Area under precision (AUC) Recall: 0.012593592586073956\n",
            "Accuracy:  0.7032662408099313\n"
          ]
        }
      ],
      "source": [
        "clf = LogisticRegression()\n",
        "clf.fit(x_train, y_train)\n",
        "y_pred = clf.predict(x_test)\n",
        "y_predtrain = clf.predict(x_train)\n",
        "CM_LR = confusion_matrix(y_test,y_pred)\n",
        "CR_LR = classification_report(y_test,y_pred)\n",
        "CM_LRtrain = confusion_matrix(y_train,y_predtrain)\n",
        "CR_LRtrain = classification_report(y_train,y_predtrain)\n",
        "print(\"Accuracy:\", accuracy_score(y_test, y_pred))\n",
        "print(\"Confusion Matrix:\\n\",CM_LR)\n",
        "print(\"Classification Report:\\n\",CR_LR)\n",
        "print(\"Confusion Matrix Train:\\n\",CM_LRtrain)\n",
        "print(\"Classification Report Train:\\n\",CR_LRtrain)\n",
        "print(\"Precision:\", precision_score(y_test, y_pred))\n",
        "print(\"Recall:\", recall_score(y_test, y_pred))\n",
        "print(\"F1:\", f1_score(y_test, y_pred))\n",
        "print(\"Area under precision (AUC) Recall:\", average_precision_score(y_test, y_pred))\n",
        "accuracy = metrics.accuracy_score(y_test, pred_y)\n",
        "print(\"Accuracy: \", accuracy)"
      ]
    },
    {
      "cell_type": "code",
      "execution_count": null,
      "metadata": {
        "id": "dnzVpADWcx4_"
      },
      "outputs": [],
      "source": [
        "clf = BernoulliNB()\n",
        "clf.fit(X_res, y_res)\n",
        "y_pred = clf.predict(x_test)\n",
        "y_predtrain = clf.predict(x_train)\n",
        "CM_NB = confusion_matrix(y_test,y_pred)\n",
        "CR_NB = classification_report(y_test,y_pred)\n",
        "CM_NBtrain = confusion_matrix(y_train,y_predtrain)\n",
        "CR_NBtrain = classification_report(y_train,y_predtrain)\n",
        "print(\"Accuracy:\", accuracy_score(y_test, y_pred))\n",
        "print(\"Confusion Matrix:\\n\",CM_NB)\n",
        "print(\"Classification Report:\\n\",CR_NB)\n",
        "print(\"Confusion Matrix Train:\\n\",CM_NBtrain)\n",
        "print(\"Classification Report Train:\\n\",CR_NBtrain)\n",
        "print(\"Precision:\", precision_score(y_test, y_pred))\n",
        "print(\"Recall:\", recall_score(y_test, y_pred))\n",
        "print(\"F1:\", f1_score(y_test, y_pred))\n",
        "print(\"Area under precision (AUC) Recall:\", average_precision_score(y_test, y_pred))\n",
        "accuracy = metrics.accuracy_score(y_test, pred_y)\n",
        "print(\"Accuracy: \", accuracy)"
      ]
    },
    {
      "cell_type": "code",
      "execution_count": null,
      "metadata": {
        "colab": {
          "base_uri": "https://localhost:8080/"
        },
        "id": "ppe2CdI8c16o",
        "outputId": "850ee1f1-08f9-48e5-df26-1beb499a8abd"
      },
      "outputs": [
        {
          "output_type": "stream",
          "name": "stdout",
          "text": [
            "Accuracy: 0.22249005664698085\n",
            "Confusion Matrix:\n",
            " [[1755 6442]\n",
            " [   9   91]]\n",
            "Classification Report:\n",
            "               precision    recall  f1-score   support\n",
            "\n",
            "           0       0.99      0.21      0.35      8197\n",
            "           1       0.01      0.91      0.03       100\n",
            "\n",
            "    accuracy                           0.22      8297\n",
            "   macro avg       0.50      0.56      0.19      8297\n",
            "weighted avg       0.98      0.22      0.35      8297\n",
            "\n",
            "Confusion Matrix Train:\n",
            " [[15667  3482]\n",
            " [  170    40]]\n",
            "Classification Report Train:\n",
            "               precision    recall  f1-score   support\n",
            "\n",
            "           0       0.99      0.82      0.90     19149\n",
            "           1       0.01      0.19      0.02       210\n",
            "\n",
            "    accuracy                           0.81     19359\n",
            "   macro avg       0.50      0.50      0.46     19359\n",
            "weighted avg       0.98      0.81      0.89     19359\n",
            "\n",
            "Precision: 0.01392928210622991\n",
            "Recall: 0.91\n",
            "F1: 0.027438564751997588\n",
            "Area under precision (AUC) Recall: 0.013760376136941605\n"
          ]
        }
      ],
      "source": [
        "from sklearn.linear_model import SGDClassifier\n",
        "clf = SGDClassifier(loss=\"hinge\", penalty=\"l2\", max_iter=5)\n",
        "clf.fit(X_res, y_res)\n",
        "y_pred=clf.predict(x_test)\n",
        "y_predtrain=clf.predict(x_train)\n",
        "SGDClassifier(max_iter=5)\n",
        "CM_svc = confusion_matrix(y_test,y_pred)\n",
        "CR_svc = classification_report(y_test,y_pred)\n",
        "CM_svctrain = confusion_matrix(y_train,y_predtrain)\n",
        "CR_svctrain = classification_report(y_train,y_predtrain)\n",
        "print(\"Accuracy:\", accuracy_score(y_test, y_pred))\n",
        "print(\"Confusion Matrix:\\n\",CM_svc)\n",
        "print(\"Classification Report:\\n\",CR_svc)\n",
        "print(\"Confusion Matrix Train:\\n\",CM_svctrain)\n",
        "print(\"Classification Report Train:\\n\",CR_svctrain)\n",
        "print(\"Precision:\", precision_score(y_test, y_pred))\n",
        "print(\"Recall:\", recall_score(y_test, y_pred))\n",
        "print(\"F1:\", f1_score(y_test, y_pred))\n",
        "print(\"Area under precision (AUC) Recall:\", average_precision_score(y_test, y_pred))"
      ]
    },
    {
      "cell_type": "code",
      "execution_count": null,
      "metadata": {
        "colab": {
          "base_uri": "https://localhost:8080/"
        },
        "id": "MmKVWDMFdq9Q",
        "outputId": "b4666069-44bb-4dbc-eb92-8678253240e0"
      },
      "outputs": [
        {
          "output_type": "stream",
          "name": "stdout",
          "text": [
            "Accuracy: 0.8961070266361335\n",
            "Confusion Matrix:\n",
            " [[7412  785]\n",
            " [  77   23]]\n",
            "Classification Report:\n",
            "               precision    recall  f1-score   support\n",
            "\n",
            "           0       0.99      0.90      0.95      8197\n",
            "           1       0.03      0.23      0.05       100\n",
            "\n",
            "    accuracy                           0.90      8297\n",
            "   macro avg       0.51      0.57      0.50      8297\n",
            "weighted avg       0.98      0.90      0.93      8297\n",
            "\n",
            "Confusion Matrix Train Data:\n",
            " [[18584   565]\n",
            " [   24   186]]\n",
            "Classification Report Train Data:\n",
            "               precision    recall  f1-score   support\n",
            "\n",
            "           0       1.00      0.97      0.98     19149\n",
            "           1       0.25      0.89      0.39       210\n",
            "\n",
            "    accuracy                           0.97     19359\n",
            "   macro avg       0.62      0.93      0.69     19359\n",
            "weighted avg       0.99      0.97      0.98     19359\n",
            "\n",
            "Precision: 0.028465346534653466\n",
            "Recall: 0.23\n",
            "F1: 0.050660792951541855\n",
            "Area under precision (AUC) Recall: 0.01582749252085628\n"
          ]
        }
      ],
      "source": [
        "RF = RandomForestClassifier(n_estimators=15,oob_score=True,class_weight='balanced',n_jobs=-1)\n",
        "\n",
        "\n",
        "RF.fit(x_train, y_train)\n",
        "\n",
        "y_pred= RF.predict(x_test)\n",
        "y_predtrain=RF.predict(x_train) \n",
        "     \n",
        "# Evaluating model\n",
        "CM_RF_train=confusion_matrix(y_train,y_predtrain)\n",
        "CR_RF_train= classification_report(y_train,y_predtrain)\n",
        "CM_RF = confusion_matrix(y_test,y_pred)\n",
        "CR_RF = classification_report(y_test,y_pred)\n",
        "print(\"Accuracy:\", accuracy_score(y_test, y_pred))\n",
        "print(\"Confusion Matrix:\\n\",CM_RF)\n",
        "print(\"Classification Report:\\n\",CR_RF)\n",
        "print(\"Confusion Matrix Train Data:\\n\",CM_RF_train)\n",
        "print(\"Classification Report Train Data:\\n\",CR_RF_train)\n",
        "print(\"Precision:\", precision_score(y_test, y_pred))\n",
        "print(\"Recall:\", recall_score(y_test, y_pred))\n",
        "print(\"F1:\", f1_score(y_test, y_pred))\n",
        "print(\"Area under precision (AUC) Recall:\", average_precision_score(y_test, y_pred))"
      ]
    },
    {
      "cell_type": "code",
      "execution_count": null,
      "metadata": {
        "colab": {
          "base_uri": "https://localhost:8080/"
        },
        "id": "-sOHwxH4d4Lt",
        "outputId": "bf9c98d4-d893-4d67-a422-faad483cafc9"
      },
      "outputs": [
        {
          "output_type": "stream",
          "name": "stdout",
          "text": [
            "Accuracy: 0.6439676991683742\n",
            "Confusion Matrix:\n",
            " [[5282 2915]\n",
            " [  39   61]]\n",
            "Classification Report:\n",
            "               precision    recall  f1-score   support\n",
            "\n",
            "           0       0.99      0.64      0.78      8197\n",
            "           1       0.02      0.61      0.04       100\n",
            "\n",
            "    accuracy                           0.64      8297\n",
            "   macro avg       0.51      0.63      0.41      8297\n",
            "weighted avg       0.98      0.64      0.77      8297\n",
            "\n",
            "Confusion Matrix Train Data:\n",
            " [[18071  1078]\n",
            " [   15   195]]\n",
            "Classification Report Train Data:\n",
            "               precision    recall  f1-score   support\n",
            "\n",
            "           0       1.00      0.94      0.97     19149\n",
            "           1       0.15      0.93      0.26       210\n",
            "\n",
            "    accuracy                           0.94     19359\n",
            "   macro avg       0.58      0.94      0.62     19359\n",
            "weighted avg       0.99      0.94      0.96     19359\n",
            "\n",
            "Precision: 0.02049731182795699\n",
            "Recall: 0.61\n",
            "F1: 0.03966189856957087\n",
            "Area under precision (AUC) Recall: 0.017203854369567444\n"
          ]
        }
      ],
      "source": [
        "RF = RandomForestClassifier(n_estimators=15,oob_score=True,n_jobs=-1)\n",
        "\n",
        "\n",
        "RF.fit(X_res, y_res)\n",
        "\n",
        "y_pred= RF.predict(x_test)\n",
        "y_predtrain=RF.predict(x_train) \n",
        "     \n",
        "# Evaluating model\n",
        "CM_RF_train=confusion_matrix(y_train,y_predtrain)\n",
        "CR_RF_train= classification_report(y_train,y_predtrain)\n",
        "CM_RF = confusion_matrix(y_test,y_pred)\n",
        "CR_RF = classification_report(y_test,y_pred)\n",
        "print(\"Accuracy:\", accuracy_score(y_test, y_pred))\n",
        "print(\"Confusion Matrix:\\n\",CM_RF)\n",
        "print(\"Classification Report:\\n\",CR_RF)\n",
        "print(\"Confusion Matrix Train Data:\\n\",CM_RF_train)\n",
        "print(\"Classification Report Train Data:\\n\",CR_RF_train)\n",
        "print(\"Precision:\", precision_score(y_test, y_pred))\n",
        "print(\"Recall:\", recall_score(y_test, y_pred))\n",
        "print(\"F1:\", f1_score(y_test, y_pred))\n",
        "print(\"Area under precision (AUC) Recall:\", average_precision_score(y_test, y_pred))"
      ]
    },
    {
      "cell_type": "code",
      "execution_count": null,
      "metadata": {
        "colab": {
          "base_uri": "https://localhost:8080/"
        },
        "id": "eEcyekYSfbE3",
        "outputId": "df274763-f2da-4c16-b9ad-f51570712281"
      },
      "outputs": [
        {
          "output_type": "stream",
          "name": "stdout",
          "text": [
            "Confusion Matrix:\n",
            " [[5282 2915]\n",
            " [  39   61]]\n",
            "Classification Report:\n",
            "               precision    recall  f1-score   support\n",
            "\n",
            "           0       0.99      0.64      0.78      8197\n",
            "           1       0.02      0.61      0.04       100\n",
            "\n",
            "    accuracy                           0.64      8297\n",
            "   macro avg       0.51      0.63      0.41      8297\n",
            "weighted avg       0.98      0.64      0.77      8297\n",
            "\n",
            "Confusion Matrix Train Data:\n",
            " [[18071  1078]\n",
            " [   15   195]]\n",
            "Classification Report Train Data:\n",
            "               precision    recall  f1-score   support\n",
            "\n",
            "           0       1.00      0.94      0.97     19149\n",
            "           1       0.15      0.93      0.26       210\n",
            "\n",
            "    accuracy                           0.94     19359\n",
            "   macro avg       0.58      0.94      0.62     19359\n",
            "weighted avg       0.99      0.94      0.96     19359\n",
            "\n"
          ]
        }
      ],
      "source": [
        "print(\"Confusion Matrix:\\n\",CM_RF)\n",
        "print(\"Classification Report:\\n\",CR_RF)\n",
        "print(\"Confusion Matrix Train Data:\\n\",CM_RF_train)\n",
        "print(\"Classification Report Train Data:\\n\",CR_RF_train)"
      ]
    },
    {
      "cell_type": "code",
      "execution_count": null,
      "metadata": {
        "id": "EMbnEc8I8MVI"
      },
      "outputs": [],
      "source": [
        "import numpy as np\n",
        "import pandas as pd\n",
        "from keras.models import Sequential\n",
        "from keras.layers import Dense"
      ]
    },
    {
      "cell_type": "code",
      "execution_count": null,
      "metadata": {
        "id": "QLl-NCqd8SvF"
      },
      "outputs": [],
      "source": [
        "model = Sequential()\n",
        "model.add(Dense(12, input_dim=8, activation='relu'))\n",
        "model.add(Dense(8, activation='relu'))\n",
        "model.add(Dense(1, activation='sigmoid'))"
      ]
    },
    {
      "cell_type": "code",
      "execution_count": null,
      "metadata": {
        "id": "V3UoyNaYgDek"
      },
      "outputs": [],
      "source": [
        "model.compile(loss='binary_crossentropy', optimizer='adam', metrics=['accuracy'])"
      ]
    },
    {
      "cell_type": "code",
      "execution_count": null,
      "metadata": {
        "colab": {
          "base_uri": "https://localhost:8080/",
          "height": 303
        },
        "id": "3MR82DVoxEo_",
        "outputId": "ba2062fb-9ed5-4206-bcf8-347e8bc06cae"
      },
      "outputs": [
        {
          "output_type": "stream",
          "name": "stdout",
          "text": [
            "Counter({0: 9900, 1: 100})\n",
            "Counter({0: 9900, 1: 9900})\n"
          ]
        },
        {
          "output_type": "display_data",
          "data": {
            "text/plain": [
              "<Figure size 432x288 with 1 Axes>"
            ],
            "image/png": "[encoded data removed]"
          },
          "metadata": {}
        }
      ],
      "source": [
        "\n",
        "# Oversample and plot imbalanced dataset with SMOTE\n",
        "from collections import Counter\n",
        "from sklearn.datasets import make_classification\n",
        "from imblearn.over_sampling import SMOTE\n",
        "from matplotlib import pyplot\n",
        "from numpy import where\n",
        "# define dataset\n",
        "x, y = make_classification(n_samples=10000, n_features=2, n_redundant=0,\n",
        " n_clusters_per_class=1, weights=[0.99], flip_y=0, random_state=1)\n",
        "# summarize class distribution\n",
        "counter = Counter(y)\n",
        "print(counter)\n",
        "# transform the dataset\n",
        "oversample = SMOTE()\n",
        "x, y = oversample.fit_resample(x, y)\n",
        "# summarize the new class distribution\n",
        "counter = Counter(y)\n",
        "print(counter)\n",
        "# scatter plot of examples by class label\n",
        "for label, _ in counter.items():\n",
        " row_ix = where(y == label)[0]\n",
        " pyplot.scatter(x[row_ix, 0], x[row_ix, 1], label=str(label))\n",
        "pyplot.legend()\n",
        "pyplot.show()"
      ]
    },
    {
      "cell_type": "code",
      "execution_count": null,
      "metadata": {
        "id": "R_9MvbSqJwCU"
      },
      "outputs": [],
      "source": [
        "\n",
        "# Oversample with SMOTE and random undersample for imbalanced dataset\n",
        "from collections import Counter\n",
        "from sklearn.datasets import make_classification\n",
        "from imblearn.over_sampling import SMOTE\n",
        "from imblearn.under_sampling import RandomUnderSampler\n",
        "from imblearn.pipeline import Pipeline\n",
        "from matplotlib import pyplot\n",
        "from numpy import where"
      ]
    },
    {
      "cell_type": "code",
      "execution_count": null,
      "metadata": {
        "id": "nvaJZ4UxKSQb"
      },
      "outputs": [],
      "source": [
        "\n",
        "...\n",
        "over = SMOTE(sampling_strategy=0.5)\n",
        "under = RandomUnderSampler(sampling_strategy=0.5)"
      ]
    },
    {
      "cell_type": "code",
      "execution_count": null,
      "metadata": {
        "id": "Nps-Y2qYKYVw"
      },
      "outputs": [],
      "source": [
        "\n",
        "...\n",
        "steps = [('o', over), ('u', under)]\n",
        "pipeline = Pipeline(steps=steps)"
      ]
    },
    {
      "cell_type": "code",
      "execution_count": null,
      "metadata": {
        "colab": {
          "base_uri": "https://localhost:8080/"
        },
        "id": "TeyffoSQKcb6",
        "outputId": "baabd3b2-5513-493e-9f40-6663870b0bb1"
      },
      "outputs": [
        {
          "output_type": "stream",
          "name": "stdout",
          "text": [
            "Accuracy: 70.33%\n"
          ]
        }
      ],
      "source": [
        "print(\"Accuracy: %.2f%%\" % (accuracy * 100.0))"
      ]
    },
    {
      "cell_type": "code",
      "execution_count": null,
      "metadata": {
        "colab": {
          "base_uri": "https://localhost:8080/"
        },
        "id": "HJN0otKgaJu4",
        "outputId": "896389fe-eda3-4867-e936-2f130488d455"
      },
      "outputs": [
        {
          "output_type": "execute_result",
          "data": {
            "text/plain": [
              "0.9991735110284622"
            ]
          },
          "metadata": {},
          "execution_count": 79
        }
      ],
      "source": [
        "# Support Vector Machines\n",
        "svc = SVC(gamma=10)\n",
        "svc.fit(x_train, y_train)\n",
        "Y_pred = svc.predict(x_train)\n",
        "svc.score(x_train, y_train)"
      ]
    },
    {
      "cell_type": "code",
      "execution_count": null,
      "metadata": {
        "colab": {
          "base_uri": "https://localhost:8080/"
        },
        "id": "NiKzG0fRkuvm",
        "outputId": "5ff8b1ac-2209-49bb-e67f-8ee689f70e78"
      },
      "outputs": [
        {
          "output_type": "execute_result",
          "data": {
            "text/plain": [
              "array([0.02702703, 0.        , 0.        ])"
            ]
          },
          "metadata": {},
          "execution_count": 80
        }
      ],
      "source": [
        "cross_val_score(SVC(C=10), x_train,y_train, cv=3, scoring=\"f1\")"
      ]
    },
    {
      "cell_type": "code",
      "execution_count": null,
      "metadata": {
        "id": "WvPzLmoIml9p"
      },
      "outputs": [],
      "source": [
        "from sklearn.ensemble import RandomForestRegressor, ExtraTreesRegressor, AdaBoostRegressor, GradientBoostingRegressor\n"
      ]
    },
    {
      "cell_type": "code",
      "execution_count": null,
      "metadata": {
        "colab": {
          "base_uri": "https://localhost:8080/"
        },
        "id": "AP4Y94-qmrtB",
        "outputId": "2962d216-95f2-42d1-e19a-6b772ebb9b28"
      },
      "outputs": [
        {
          "output_type": "stream",
          "name": "stdout",
          "text": [
            "Accuracy: 99.91%\n"
          ]
        }
      ],
      "source": [
        "rfrModel = RandomForestRegressor()\n",
        "rfrModel.fit(x_train,y_train)\n",
        "preds = rfrModel.predict(x_train)\n",
        "predictions = [round(value) for value in preds]\n",
        "accuracy = accuracy_score(y_train, predictions)\n",
        "print(\"Accuracy: %.2f%%\" % (accuracy * 100.0))"
      ]
    },
    {
      "cell_type": "code",
      "execution_count": null,
      "metadata": {
        "colab": {
          "base_uri": "https://localhost:8080/",
          "height": 457
        },
        "id": "yBnPWvcRoVUT",
        "outputId": "c390a11c-6404-49a8-cbc6-56fd4f3c4468"
      },
      "outputs": [
        {
          "output_type": "stream",
          "name": "stdout",
          "text": [
            "              precision    recall  f1-score   support\n",
            "\n",
            "           0       0.99      0.64      0.78      8197\n",
            "           1       0.02      0.61      0.04       100\n",
            "\n",
            "    accuracy                           0.64      8297\n",
            "   macro avg       0.51      0.63      0.41      8297\n",
            "weighted avg       0.98      0.64      0.77      8297\n",
            "\n"
          ]
        },
        {
          "output_type": "display_data",
          "data": {
            "text/plain": [
              "<Figure size 432x288 with 1 Axes>"
            ],
            "image/png": "[encoded data removed]"
          },
          "metadata": {}
        }
      ],
      "source": [
        "from keras.layers import Dropout\n",
        "classifier = Sequential()\n",
        "from sklearn.metrics import classification_report\n",
        "print(classification_report(y_test,y_pred))\n",
        "from sklearn.metrics import roc_curve\n",
        "\n",
        "fpr, tpr, thresholds = roc_curve(y_test, y_pred)\n",
        "plt.plot([0,1],[0,1],'k--')\n",
        "plt.plot(fpr,tpr, label='ANN')\n",
        "plt.xlabel('fpr')\n",
        "plt.ylabel('tpr')\n",
        "plt.title('ROC curve')\n",
        "plt.show()"
      ]
    },
    {
      "cell_type": "code",
      "execution_count": null,
      "metadata": {
        "colab": {
          "base_uri": "https://localhost:8080/"
        },
        "id": "i4Cw1g5WnSHw",
        "outputId": "44503a1d-065c-4101-d7f7-a9e4e2253189"
      },
      "outputs": [
        {
          "output_type": "stream",
          "name": "stdout",
          "text": [
            "0.00845070172014084 -0.15931352838865065\n",
            "0.008466999380787987 -0.1804148301128914\n",
            "0.008467182883305724 -0.1827438605325773\n",
            "0.00846718475955377 -0.18300270799826657\n"
          ]
        }
      ],
      "source": [
        "from sklearn.linear_model import Ridge\n",
        "ridge_models = {}\n",
        "training_scores = []\n",
        "test_scores = []\n",
        "\n",
        "for alpha in [100, 10, 1, .01]:\n",
        "    ridge = Ridge(alpha=alpha).fit(x_train, y_train)\n",
        "    training_scores.append(ridge.score(x_train, y_train))\n",
        "    test_scores.append(ridge.score(x_test, y_test))\n",
        "    ridge_models[alpha] = ridge\n",
        "for train,test in zip(training_scores,test_scores):\n",
        "    print (train,test)"
      ]
    },
    {
      "cell_type": "code",
      "execution_count": null,
      "metadata": {
        "colab": {
          "base_uri": "https://localhost:8080/",
          "height": 285
        },
        "id": "baiAGfioBPjr",
        "outputId": "7c90abf3-e540-4175-f5a7-04b188ff9cb7"
      },
      "outputs": [
        {
          "output_type": "execute_result",
          "data": {
            "text/plain": [
              "<matplotlib.legend.Legend at 0x7fe9876e0580>"
            ]
          },
          "metadata": {},
          "execution_count": 85
        },
        {
          "output_type": "display_data",
          "data": {
            "text/plain": [
              "<Figure size 432x288 with 1 Axes>"
            ],
            "image/png": "[encoded data removed]"
          },
          "metadata": {}
        }
      ],
      "source": [
        "plt.figure()\n",
        "plt.plot(training_scores, label=\"training scores\")\n",
        "plt.plot(test_scores, label=\"test scores\")\n",
        "plt.xticks(range(4), [100, 10, 1, .01])\n",
        "plt.legend(loc=\"best\")"
      ]
    },
    {
      "cell_type": "code",
      "execution_count": null,
      "metadata": {
        "colab": {
          "base_uri": "https://localhost:8080/"
        },
        "id": "TtH_Z5euBS5i",
        "outputId": "47464b9e-c328-40ba-e368-24fe796e3788"
      },
      "outputs": [
        {
          "output_type": "stream",
          "name": "stdout",
          "text": [
            "Accuracy: 98.79%\n"
          ]
        }
      ],
      "source": [
        "ridgeRegModel = Ridge(alpha=.01).fit(x_train,y_train)\n",
        "ridgePred = ridgeRegModel.predict(x_test)\n",
        "ridge_predictions = [round(value) for value in ridgePred]\n",
        "print(\"Accuracy: %.2f%%\" % (accuracy_score(y_test, ridge_predictions) * 100.0))"
      ]
    },
    {
      "cell_type": "code",
      "execution_count": null,
      "metadata": {
        "colab": {
          "base_uri": "https://localhost:8080/",
          "height": 74
        },
        "id": "4KD18gUyBqh3",
        "outputId": "53ab2585-c7fa-419a-bc42-4e35569fbabf"
      },
      "outputs": [
        {
          "output_type": "execute_result",
          "data": {
            "text/plain": [
              "KNeighborsRegressor(n_neighbors=1)"
            ],
            "text/html": [
              "<style>#sk-container-id-2 {color: black;background-color: white;}#sk-container-id-2 pre{padding: 0;}#sk-container-id-2 div.sk-toggleable {background-color: white;}#sk-container-id-2 label.sk-toggleable__label {cursor: pointer;display: block;width: 100%;margin-bottom: 0;padding: 0.3em;box-sizing: border-box;text-align: center;}#sk-container-id-2 label.sk-toggleable__label-arrow:before {content: \"▸\";float: left;margin-right: 0.25em;color: #696969;}#sk-container-id-2 label.sk-toggleable__label-arrow:hover:before {color: black;}#sk-container-id-2 div.sk-estimator:hover label.sk-toggleable__label-arrow:before {color: black;}#sk-container-id-2 div.sk-toggleable__content {max-height: 0;max-width: 0;overflow: hidden;text-align: left;background-color: #f0f8ff;}#sk-container-id-2 div.sk-toggleable__content pre {margin: 0.2em;color: black;border-radius: 0.25em;background-color: #f0f8ff;}#sk-container-id-2 input.sk-toggleable__control:checked~div.sk-toggleable__content {max-height: 200px;max-width: 100%;overflow: auto;}#sk-container-id-2 input.sk-toggleable__control:checked~label.sk-toggleable__label-arrow:before {content: \"▾\";}#sk-container-id-2 div.sk-estimator input.sk-toggleable__control:checked~label.sk-toggleable__label {background-color: #d4ebff;}#sk-container-id-2 div.sk-label input.sk-toggleable__control:checked~label.sk-toggleable__label {background-color: #d4ebff;}#sk-container-id-2 input.sk-hidden--visually {border: 0;clip: rect(1px 1px 1px 1px);clip: rect(1px, 1px, 1px, 1px);height: 1px;margin: -1px;overflow: hidden;padding: 0;position: absolute;width: 1px;}#sk-container-id-2 div.sk-estimator {font-family: monospace;background-color: #f0f8ff;border: 1px dotted black;border-radius: 0.25em;box-sizing: border-box;margin-bottom: 0.5em;}#sk-container-id-2 div.sk-estimator:hover {background-color: #d4ebff;}#sk-container-id-2 div.sk-parallel-item::after {content: \"\";width: 100%;border-bottom: 1px solid gray;flex-grow: 1;}#sk-container-id-2 div.sk-label:hover label.sk-toggleable__label {background-color: #d4ebff;}#sk-container-id-2 div.sk-serial::before {content: \"\";position: absolute;border-left: 1px solid gray;box-sizing: border-box;top: 0;bottom: 0;left: 50%;z-index: 0;}#sk-container-id-2 div.sk-serial {display: flex;flex-direction: column;align-items: center;background-color: white;padding-right: 0.2em;padding-left: 0.2em;position: relative;}#sk-container-id-2 div.sk-item {position: relative;z-index: 1;}#sk-container-id-2 div.sk-parallel {display: flex;align-items: stretch;justify-content: center;background-color: white;position: relative;}#sk-container-id-2 div.sk-item::before, #sk-container-id-2 div.sk-parallel-item::before {content: \"\";position: absolute;border-left: 1px solid gray;box-sizing: border-box;top: 0;bottom: 0;left: 50%;z-index: -1;}#sk-container-id-2 div.sk-parallel-item {display: flex;flex-direction: column;z-index: 1;position: relative;background-color: white;}#sk-container-id-2 div.sk-parallel-item:first-child::after {align-self: flex-end;width: 50%;}#sk-container-id-2 div.sk-parallel-item:last-child::after {align-self: flex-start;width: 50%;}#sk-container-id-2 div.sk-parallel-item:only-child::after {width: 0;}#sk-container-id-2 div.sk-dashed-wrapped {border: 1px dashed gray;margin: 0 0.4em 0.5em 0.4em;box-sizing: border-box;padding-bottom: 0.4em;background-color: white;}#sk-container-id-2 div.sk-label label {font-family: monospace;font-weight: bold;display: inline-block;line-height: 1.2em;}#sk-container-id-2 div.sk-label-container {text-align: center;}#sk-container-id-2 div.sk-container {/* jupyter's `normalize.less` sets `[hidden] { display: none; }` but bootstrap.min.css set `[hidden] { display: none !important; }` so we also need the `!important` here to be able to override the default hidden behavior on the sphinx rendered scikit-learn.org. See: https://github.com/scikit-learn/scikit-learn/issues/21755 */display: inline-block !important;position: relative;}#sk-container-id-2 div.sk-text-repr-fallback {display: none;}</style><div id=\"sk-container-id-2\" class=\"sk-top-container\"><div class=\"sk-text-repr-fallback\"><pre>KNeighborsRegressor(n_neighbors=1)</pre><b>In a Jupyter environment, please rerun this cell to show the HTML representation or trust the notebook. <br />On GitHub, the HTML representation is unable to render, please try loading this page with nbviewer.org.</b></div><div class=\"sk-container\" hidden><div class=\"sk-item\"><div class=\"sk-estimator sk-toggleable\"><input class=\"sk-toggleable__control sk-hidden--visually\" id=\"sk-estimator-id-2\" type=\"checkbox\" checked><label for=\"sk-estimator-id-2\" class=\"sk-toggleable__label sk-toggleable__label-arrow\">KNeighborsRegressor</label><div class=\"sk-toggleable__content\"><pre>KNeighborsRegressor(n_neighbors=1)</pre></div></div></div></div></div>"
            ]
          },
          "metadata": {},
          "execution_count": 87
        }
      ],
      "source": [
        "from sklearn.neighbors import KNeighborsRegressor\n",
        "kneighbor_regression = KNeighborsRegressor(n_neighbors=1)\n",
        "kneighbor_regression.fit(x_train, y_train)"
      ]
    },
    {
      "cell_type": "code",
      "execution_count": null,
      "metadata": {
        "colab": {
          "base_uri": "https://localhost:8080/"
        },
        "id": "3Q68yZypBv6Z",
        "outputId": "4d190807-d4d6-47a5-c838-ccf331954c74"
      },
      "outputs": [
        {
          "output_type": "stream",
          "name": "stdout",
          "text": [
            "Accuracy: 99.92%\n"
          ]
        }
      ],
      "source": [
        "x_knr_pred = kneighbor_regression.predict(x_train)\n",
        "knr_predictions = [round(value) for value in x_knr_pred]\n",
        "\n",
        "print(\"Accuracy: %.2f%%\" % (accuracy_score(y_train, knr_predictions) * 100.0))"
      ]
    },
    {
      "cell_type": "code",
      "execution_count": null,
      "metadata": {
        "colab": {
          "base_uri": "https://localhost:8080/"
        },
        "id": "m-ZnI7r3B-7S",
        "outputId": "ad036605-59f8-4b10-b9b2-df554182dc4a"
      },
      "outputs": [
        {
          "output_type": "stream",
          "name": "stdout",
          "text": [
            "Accuracy: 98.79%\n"
          ]
        }
      ],
      "source": [
        "y_pred_test = kneighbor_regression.predict(x_test)\n",
        "y_knr_predictions = [round(value) for value in y_pred_test]\n",
        "\n",
        "print(\"Accuracy: %.2f%%\" % (accuracy_score(y_test, y_knr_predictions) * 100.0))"
      ]
    },
    {
      "cell_type": "code",
      "execution_count": null,
      "metadata": {
        "id": "KOvrKIvuCJb0"
      },
      "outputs": [],
      "source": [
        "from keras.models import Sequential\n",
        "from keras.layers import Dense"
      ]
    },
    {
      "cell_type": "code",
      "execution_count": null,
      "metadata": {
        "id": "GAic6ydGEfZa"
      },
      "outputs": [],
      "source": [
        "from tensorflow.keras.models import Sequential\n",
        "from tensorflow.keras.layers import Reshape, Dense\n",
        "\n",
        "model = Sequential()\n",
        "model.add(Reshape((10,1), input_shape=(10,1)))\n",
        "model.add(Dense(32, activation='relu'))\n",
        "model.add(Dense(1, activation='sigmoid'))"
      ]
    },
    {
      "cell_type": "code",
      "execution_count": null,
      "metadata": {
        "id": "gNuJKQlNKdoW"
      },
      "outputs": [],
      "source": [
        "from tensorflow.keras.models import Sequential\n",
        "from tensorflow.keras.layers import Dense\n",
        "\n",
        "model = Sequential()\n",
        "model.add(Dense(32, activation='relu', input_shape=(10,1)))\n",
        "model.add(Dense(64, activation='relu'))\n",
        "model.add(Dense(3, activation='sigmoid'))\n",
        "\n",
        "model.compile(loss='binary_crossentropy', optimizer='adam', metrics=['accuracy'])"
      ]
    },
    {
      "cell_type": "code",
      "execution_count": null,
      "metadata": {
        "colab": {
          "base_uri": "https://localhost:8080/"
        },
        "id": "hHJwzTtUCxVr",
        "outputId": "f2b091e2-8d7b-4f81-b8c1-bee46ba46afd"
      },
      "outputs": [
        {
          "output_type": "stream",
          "name": "stdout",
          "text": [
            "Epoch 1/5\n",
            "1936/1936 [==============================] - 5s 2ms/step - loss: 5.9656 - accuracy: 0.0000e+00\n",
            "Epoch 2/5\n",
            "1936/1936 [==============================] - 5s 2ms/step - loss: 5.9656 - accuracy: 0.0000e+00\n",
            "Epoch 3/5\n",
            "1936/1936 [==============================] - 5s 3ms/step - loss: 5.9656 - accuracy: 0.0000e+00\n",
            "Epoch 4/5\n",
            "1936/1936 [==============================] - 5s 3ms/step - loss: 5.9656 - accuracy: 0.0000e+00\n",
            "Epoch 5/5\n",
            "1936/1936 [==============================] - 4s 2ms/step - loss: 5.9656 - accuracy: 0.0000e+00\n",
            "1936/1936 [==============================] - 4s 2ms/step - loss: 5.9656 - accuracy: 0.0000e+00\n",
            "Train score: 5.965628623962402\n",
            "Train accuracy: 0.0\n",
            "260/260 [==============================] - 0s 1ms/step\n",
            "********************\n",
            "830/830 [==============================] - 2s 2ms/step - loss: 2.6098 - accuracy: 0.0323\n",
            "Test score: 2.60978627204895\n",
            "Test accuracy: 0.03230082988739014\n"
          ]
        }
      ],
      "source": [
        "classifier = Sequential()\n",
        "\n",
        "\n",
        "# Compiling the ANN | means applying SGD on the whole ANN\n",
        "classifier.compile(optimizer = 'adam', loss = 'binary_crossentropy', metrics = ['accuracy'])\n",
        "\n",
        "# Fitting the ANN to the Training set\n",
        "classifier.fit(x_train, y_train, batch_size = 10, epochs = 5)\n",
        "\n",
        "score, acc = classifier.evaluate(x_train, y_train,\n",
        "                            batch_size=10)\n",
        "print('Train score:', score)\n",
        "print('Train accuracy:', acc)\n",
        "# Part 3 - Making predictions and evaluating the model\n",
        "\n",
        "# Predicting the Test set results\n",
        "y_pred = classifier.predict(x_test)\n",
        "y_pred = (y_pred > 0.5)\n",
        "\n",
        "print('*'*20)\n",
        "score, acc = classifier.evaluate(x_test, y_test,\n",
        "                            batch_size=10)\n",
        "print('Test score:', score)\n",
        "print('Test accuracy:', acc)\n"
      ]
    },
    {
      "cell_type": "code",
      "execution_count": null,
      "metadata": {
        "id": "IiliQybgUIK8"
      },
      "outputs": [],
      "source": [
        "from tensorflow.keras.models import Sequential\n",
        "from tensorflow.keras.layers import Dense, Flatten\n",
        "\n",
        "model = Sequential()\n",
        "model.add(Flatten(input_shape=(10, 10)))\n",
        "model.add(Dense(32, activation='relu'))\n",
        "model.add(Dense(1, activation='sigmoid'))\n",
        "\n",
        "model.compile(loss='binary_crossentropy', optimizer='adam', metrics=['accuracy'])"
      ]
    },
    {
      "cell_type": "code",
      "execution_count": null,
      "metadata": {
        "id": "4N7cE8B8Tlec"
      },
      "outputs": [],
      "source": [
        "# Evaluating the ANN\n",
        "from keras.wrappers.scikit_learn import KerasClassifier\n",
        "from sklearn.model_selection import cross_val_score\n",
        "from keras.models import Sequential\n",
        "from keras.layers import Dense\n",
        "def build_classifier():\n",
        "    classifier = Sequential()\n",
        "\n",
        "    classifier.compile(optimizer = 'adam', loss = 'binary_crossentropy', metrics = ['accuracy'])\n",
        "    return classifier\n",
        "classifier = KerasClassifier(build_fn = build_classifier, batch_size = 10, epochs = 100,verbose=0)\n",
        "accuracies = cross_val_score(estimator = classifier, X = x_train, y = y_train, cv = 10)\n",
        "mean = accuracies.mean()\n",
        "variance = accuracies.std()"
      ]
    },
    {
      "cell_type": "code",
      "execution_count": null,
      "metadata": {
        "colab": {
          "base_uri": "https://localhost:8080/"
        },
        "id": "NTsTLp0p6WTw",
        "outputId": "2c179955-fc18-4928-c929-f59057db2e38"
      },
      "outputs": [
        {
          "output_type": "stream",
          "name": "stdout",
          "text": [
            "Mean accuracy score of 10 different models using Kfold cross validation: 0.0\n",
            "Standard Deviation of accuracy score of 10 different models using Kfold cross validation: 0.0\n"
          ]
        }
      ],
      "source": [
        "print('Mean accuracy score of 10 different models using Kfold cross validation: {}'.format(mean))\n",
        "print('Standard Deviation of accuracy score of 10 different models using Kfold cross validation: {}'.format(variance))"
      ]
    },
    {
      "cell_type": "code",
      "execution_count": null,
      "metadata": {
        "colab": {
          "base_uri": "https://localhost:8080/"
        },
        "id": "otELMLop6jGB",
        "outputId": "c6603521-5306-4a33-83b4-7a7794e1e147"
      },
      "outputs": [
        {
          "output_type": "stream",
          "name": "stdout",
          "text": [
            "1936/1936 [==============================] - 4s 2ms/step - loss: 208.2517 - accuracy: 0.9892\n",
            "Train score: 208.25167846679688\n",
            "Train accuracy: 0.9891523122787476\n",
            "260/260 [==============================] - 0s 2ms/step\n",
            "********************\n",
            "830/830 [==============================] - 2s 3ms/step - loss: 1.1584 - accuracy: 0.8916\n",
            "Test score: 1.158414602279663\n",
            "Test accuracy: 0.8916475772857666\n"
          ]
        }
      ],
      "source": [
        "# Improving the ANN\n",
        "from keras.layers import Dropout\n",
        "classifier = Sequential()\n",
        "\n",
        "classifier.add(Dropout(rate = 0.1))\n",
        "\n",
        "# Adding the output layer\n",
        "classifier.add(Dense(units = 1, kernel_initializer = 'uniform', activation = 'sigmoid'))\n",
        "\n",
        "# Compiling the ANN\n",
        "classifier.compile(optimizer = 'adam', loss = 'binary_crossentropy', metrics = ['accuracy'])\n",
        "\n",
        "# Fitting the ANN to the Training set\n",
        "classifier.fit(x_train, y_train, batch_size = 10, epochs = 100,verbose = 0)\n",
        "# Part 3 - Making predictions and evaluating the model\n",
        "\n",
        "score, acc = classifier.evaluate(x_train, y_train,\n",
        "                            batch_size=10)\n",
        "print('Train score:', score)\n",
        "print('Train accuracy:', acc)\n",
        "# Part 3 - Making predictions and evaluating the model\n",
        "\n",
        "# Predicting the Test set results\n",
        "y_pred = classifier.predict(x_test)\n",
        "y_pred = (y_pred > 0.5)\n",
        "\n",
        "print('*'*20)\n",
        "score, acc = classifier.evaluate(x_test, y_test,\n",
        "                            batch_size=10)\n",
        "print('Test score:', score)\n",
        "print('Test accuracy:', acc)"
      ]
    },
    {
      "cell_type": "code",
      "execution_count": null,
      "metadata": {
        "id": "sFPyir4MCRw7"
      },
      "outputs": [],
      "source": [
        "from sklearn.metrics import confusion_matrix\n",
        "cm = confusion_matrix(y_test, y_pred)"
      ]
    },
    {
      "cell_type": "code",
      "execution_count": null,
      "metadata": {
        "colab": {
          "base_uri": "https://localhost:8080/",
          "height": 340
        },
        "id": "Fr3TR49kCWot",
        "outputId": "8f67e753-4834-414f-d478-75bd8ac848f2"
      },
      "outputs": [
        {
          "output_type": "execute_result",
          "data": {
            "text/plain": [
              "Text(0.5, 12.5, 'Predicted label')"
            ]
          },
          "metadata": {},
          "execution_count": 99
        },
        {
          "output_type": "display_data",
          "data": {
            "text/plain": [
              "<Figure size 432x288 with 2 Axes>"
            ],
            "image/png": "[encoded data removed]"
          },
          "metadata": {}
        }
      ],
      "source": [
        "p = sns.heatmap(pd.DataFrame(cm), annot=True, cmap=\"YlGnBu\" ,fmt='g')\n",
        "plt.title('Confusion matrix', y=1.1)\n",
        "plt.ylabel('Actual label')\n",
        "plt.xlabel('Predicted label')"
      ]
    },
    {
      "cell_type": "code",
      "execution_count": null,
      "metadata": {
        "colab": {
          "base_uri": "https://localhost:8080/"
        },
        "id": "XbPgRPvMC5Si",
        "outputId": "28dcef6a-51f3-4bfc-ead3-07c4af3dc344"
      },
      "outputs": [
        {
          "output_type": "stream",
          "name": "stdout",
          "text": [
            "              precision    recall  f1-score   support\n",
            "\n",
            "           0       0.99      0.90      0.94      8197\n",
            "           1       0.03      0.25      0.05       100\n",
            "\n",
            "    accuracy                           0.89      8297\n",
            "   macro avg       0.51      0.57      0.50      8297\n",
            "weighted avg       0.98      0.89      0.93      8297\n",
            "\n"
          ]
        }
      ],
      "source": [
        "#import classification_report\n",
        "from sklearn.metrics import classification_report\n",
        "print(classification_report(y_test,y_pred))"
      ]
    },
    {
      "cell_type": "code",
      "execution_count": null,
      "metadata": {
        "colab": {
          "base_uri": "https://localhost:8080/",
          "height": 301
        },
        "id": "PY99nzHYKzBf",
        "outputId": "f6b08e1a-41c3-43f5-e222-801f4ac673b8"
      },
      "outputs": [
        {
          "output_type": "display_data",
          "data": {
            "text/plain": [
              "<Figure size 432x288 with 1 Axes>"
            ],
            "image/png": "[encoded data removed]"
          },
          "metadata": {}
        }
      ],
      "source": [
        "from sklearn.metrics import roc_curve\n",
        "\n",
        "fpr, tpr, thresholds = roc_curve(y_test, y_pred)\n",
        "plt.plot([0,1],[0,1],'k--')\n",
        "plt.plot(fpr,tpr, label='ANN')\n",
        "plt.xlabel('fpr')\n",
        "plt.ylabel('tpr')\n",
        "plt.title('ROC curve')\n",
        "plt.show()"
      ]
    },
    {
      "cell_type": "code",
      "execution_count": null,
      "metadata": {
        "colab": {
          "base_uri": "https://localhost:8080/",
          "height": 318
        },
        "id": "aeFbtRqMC9gL",
        "outputId": "854f480d-b9cb-48f0-8100-4862148a2c19"
      },
      "outputs": [
        {
          "output_type": "stream",
          "name": "stdout",
          "text": [
            "260/260 [==============================] - 0s 1ms/step\n"
          ]
        },
        {
          "output_type": "display_data",
          "data": {
            "text/plain": [
              "<Figure size 432x288 with 1 Axes>"
            ],
            "image/png": "[encoded data removed]"
          },
          "metadata": {}
        }
      ],
      "source": [
        "from sklearn.metrics import roc_curve\n",
        "from sklearn.metrics import roc_auc_score\n",
        "\n",
        "roc_auc_score(y_test,y_pred)\n",
        "y_pred_proba = classifier.predict(x_test)\n",
        "fpr, tpr, thresholds = roc_curve(y_test, y_pred)\n",
        "plt.plot([0,1],[0,1],'k--')\n",
        "plt.plot(fpr,tpr, label='ANN')\n",
        "plt.xlabel('fpr')\n",
        "plt.ylabel('tpr')\n",
        "plt.title('ROC curve')\n",
        "plt.show()"
      ]
    },
    {
      "cell_type": "code",
      "execution_count": null,
      "metadata": {
        "colab": {
          "base_uri": "https://localhost:8080/"
        },
        "id": "Ny-FstF1W2rr",
        "outputId": "4928edd5-f6f3-4c3a-b753-fd9b33ae7bff"
      },
      "outputs": [
        {
          "output_type": "stream",
          "name": "stdout",
          "text": [
            "61/61 [==============================] - 0s 2ms/step\n",
            "61/61 [==============================] - 0s 2ms/step\n",
            "61/61 [==============================] - 0s 1ms/step\n",
            "61/61 [==============================] - 0s 1ms/step\n",
            "61/61 [==============================] - 0s 1ms/step\n",
            "61/61 [==============================] - 0s 1ms/step\n",
            "61/61 [==============================] - 0s 1ms/step\n",
            "61/61 [==============================] - 0s 1ms/step\n",
            "61/61 [==============================] - 0s 1ms/step\n",
            "61/61 [==============================] - 0s 2ms/step\n",
            "61/61 [==============================] - 0s 1ms/step\n",
            "61/61 [==============================] - 0s 1ms/step\n"
          ]
        }
      ],
      "source": [
        "from keras.wrappers.scikit_learn import KerasClassifier\n",
        "from sklearn.model_selection import GridSearchCV\n",
        "from keras.models import Sequential\n",
        "from keras.layers import Dense\n",
        "def build_classifier(optimizer):\n",
        "    classifier = Sequential()\n",
        "\n",
        "    classifier.compile(optimizer = optimizer, loss = 'binary_crossentropy', metrics = ['accuracy'])\n",
        "    return classifier\n",
        "classifier = KerasClassifier(build_fn = build_classifier)\n",
        "parameters = {'batch_size': [25, 32],\n",
        "              'epochs': [100, 200],\n",
        "              'optimizer': ['adam', 'rmsprop']}\n",
        "grid_search = GridSearchCV(estimator = classifier,\n",
        "                           param_grid = parameters,\n",
        "                           scoring = 'accuracy',\n",
        "                           cv = 10)\n",
        "grid_search = grid_search.fit(x_train, y_train,verbose = 0)\n",
        "best_parameters = grid_search.best_params_\n",
        "best_accuracy = grid_search.best_score_"
      ]
    },
    {
      "cell_type": "code",
      "execution_count": null,
      "metadata": {
        "id": "m-B9OcEZY5jf"
      },
      "outputs": [],
      "source": [
        "print('Best Parameters after tuning: {}'.format(best_parameters))\n",
        "print('Best Accuracy after tuning: {}'.format(best_accuracy))"
      ]
    },
    {
      "cell_type": "code",
      "source": [],
      "metadata": {
        "id": "cvRxac-ylFjo"
      },
      "execution_count": null,
      "outputs": []
    }
  ],
  "metadata": {
    "accelerator": "GPU",
    "colab": {
      "provenance": [],
      "authorship_tag": "ABX9TyPpw+Bx/hb5bvt74WMT0EYK",
      "include_colab_link": true
    },
    "gpuClass": "standard",
    "kernelspec": {
      "display_name": "Python 3",
      "name": "python3"
    },
    "language_info": {
      "name": "python"
    }
  },
  "nbformat": 4,
  "nbformat_minor": 0
}